{
  "nbformat": 4,
  "nbformat_minor": 0,
  "metadata": {
    "colab": {
      "name": "TASK-4[Exploratory Data Analysis-Terrorism].ipynb",
      "provenance": [],
      "collapsed_sections": []
    },
    "kernelspec": {
      "name": "python3",
      "display_name": "Python 3"
    },
    "language_info": {
      "name": "python"
    }
  },
  "cells": [
    {
      "cell_type": "markdown",
      "metadata": {
        "id": "gMSEWkE76YLC"
      },
      "source": [
        "#**GRIP: The Spark Foundation**\n",
        "\n",
        "# **Data Science And Business Analytics Intern**\n",
        "\n",
        "# **Author: Akshat Singh**\n",
        "\n",
        "[Exploratory Data Analysis - Terrorism]\n",
        "\n",
        "######Exploaratory Data Analysis(EDA) is used by data scientists to analyze and investigate data sets and summarize the results. It also help to investigate the statistical technique that are being used in data analysis are appropriate or not.\n",
        "\n"
      ]
    },
    {
      "cell_type": "markdown",
      "metadata": {
        "id": "vWLuRT2M7LXl"
      },
      "source": [
        "*Importing Required Libraries*"
      ]
    },
    {
      "cell_type": "code",
      "metadata": {
        "id": "AGgerlvN7dS0"
      },
      "source": [
        "import numpy as np # Linear Algebra\n",
        "import pandas as pd\n",
        "import matplotlib.pyplot as plt\n",
        "import seaborn as sns\n",
        "%matplotlib inline"
      ],
      "execution_count": 4,
      "outputs": []
    },
    {
      "cell_type": "markdown",
      "metadata": {
        "id": "qWGtl6lER_A9"
      },
      "source": [
        "*Reading The Data Set*"
      ]
    },
    {
      "cell_type": "code",
      "metadata": {
        "colab": {
          "base_uri": "https://localhost:8080/",
          "height": 394
        },
        "id": "DQz3294haSEe",
        "outputId": "7c43bd61-4f48-44fc-cd9d-d1bc679e861f"
      },
      "source": [
        "td = pd.read_csv('globalterrorismdb_0718dist.csv',encoding='latin1',low_memory=False)\n",
        "td.head()"
      ],
      "execution_count": 5,
      "outputs": [
        {
          "output_type": "execute_result",
          "data": {
            "text/html": [
              "<div>\n",
              "<style scoped>\n",
              "    .dataframe tbody tr th:only-of-type {\n",
              "        vertical-align: middle;\n",
              "    }\n",
              "\n",
              "    .dataframe tbody tr th {\n",
              "        vertical-align: top;\n",
              "    }\n",
              "\n",
              "    .dataframe thead th {\n",
              "        text-align: right;\n",
              "    }\n",
              "</style>\n",
              "<table border=\"1\" class=\"dataframe\">\n",
              "  <thead>\n",
              "    <tr style=\"text-align: right;\">\n",
              "      <th></th>\n",
              "      <th>eventid</th>\n",
              "      <th>iyear</th>\n",
              "      <th>imonth</th>\n",
              "      <th>iday</th>\n",
              "      <th>approxdate</th>\n",
              "      <th>extended</th>\n",
              "      <th>resolution</th>\n",
              "      <th>country</th>\n",
              "      <th>country_txt</th>\n",
              "      <th>region</th>\n",
              "      <th>region_txt</th>\n",
              "      <th>provstate</th>\n",
              "      <th>city</th>\n",
              "      <th>latitude</th>\n",
              "      <th>longitude</th>\n",
              "      <th>specificity</th>\n",
              "      <th>vicinity</th>\n",
              "      <th>location</th>\n",
              "      <th>summary</th>\n",
              "      <th>crit1</th>\n",
              "      <th>crit2</th>\n",
              "      <th>crit3</th>\n",
              "      <th>doubtterr</th>\n",
              "      <th>alternative</th>\n",
              "      <th>alternative_txt</th>\n",
              "      <th>multiple</th>\n",
              "      <th>success</th>\n",
              "      <th>suicide</th>\n",
              "      <th>attacktype1</th>\n",
              "      <th>attacktype1_txt</th>\n",
              "      <th>attacktype2</th>\n",
              "      <th>attacktype2_txt</th>\n",
              "      <th>attacktype3</th>\n",
              "      <th>attacktype3_txt</th>\n",
              "      <th>targtype1</th>\n",
              "      <th>targtype1_txt</th>\n",
              "      <th>targsubtype1</th>\n",
              "      <th>targsubtype1_txt</th>\n",
              "      <th>corp1</th>\n",
              "      <th>target1</th>\n",
              "      <th>...</th>\n",
              "      <th>weapsubtype4</th>\n",
              "      <th>weapsubtype4_txt</th>\n",
              "      <th>weapdetail</th>\n",
              "      <th>nkill</th>\n",
              "      <th>nkillus</th>\n",
              "      <th>nkillter</th>\n",
              "      <th>nwound</th>\n",
              "      <th>nwoundus</th>\n",
              "      <th>nwoundte</th>\n",
              "      <th>property</th>\n",
              "      <th>propextent</th>\n",
              "      <th>propextent_txt</th>\n",
              "      <th>propvalue</th>\n",
              "      <th>propcomment</th>\n",
              "      <th>ishostkid</th>\n",
              "      <th>nhostkid</th>\n",
              "      <th>nhostkidus</th>\n",
              "      <th>nhours</th>\n",
              "      <th>ndays</th>\n",
              "      <th>divert</th>\n",
              "      <th>kidhijcountry</th>\n",
              "      <th>ransom</th>\n",
              "      <th>ransomamt</th>\n",
              "      <th>ransomamtus</th>\n",
              "      <th>ransompaid</th>\n",
              "      <th>ransompaidus</th>\n",
              "      <th>ransomnote</th>\n",
              "      <th>hostkidoutcome</th>\n",
              "      <th>hostkidoutcome_txt</th>\n",
              "      <th>nreleased</th>\n",
              "      <th>addnotes</th>\n",
              "      <th>scite1</th>\n",
              "      <th>scite2</th>\n",
              "      <th>scite3</th>\n",
              "      <th>dbsource</th>\n",
              "      <th>INT_LOG</th>\n",
              "      <th>INT_IDEO</th>\n",
              "      <th>INT_MISC</th>\n",
              "      <th>INT_ANY</th>\n",
              "      <th>related</th>\n",
              "    </tr>\n",
              "  </thead>\n",
              "  <tbody>\n",
              "    <tr>\n",
              "      <th>0</th>\n",
              "      <td>197000000001</td>\n",
              "      <td>1970</td>\n",
              "      <td>7</td>\n",
              "      <td>2</td>\n",
              "      <td>NaN</td>\n",
              "      <td>0</td>\n",
              "      <td>NaN</td>\n",
              "      <td>58</td>\n",
              "      <td>Dominican Republic</td>\n",
              "      <td>2</td>\n",
              "      <td>Central America &amp; Caribbean</td>\n",
              "      <td>NaN</td>\n",
              "      <td>Santo Domingo</td>\n",
              "      <td>18.456792</td>\n",
              "      <td>-69.951164</td>\n",
              "      <td>1.0</td>\n",
              "      <td>0</td>\n",
              "      <td>NaN</td>\n",
              "      <td>NaN</td>\n",
              "      <td>1</td>\n",
              "      <td>1</td>\n",
              "      <td>1</td>\n",
              "      <td>0.0</td>\n",
              "      <td>NaN</td>\n",
              "      <td>NaN</td>\n",
              "      <td>0.0</td>\n",
              "      <td>1</td>\n",
              "      <td>0</td>\n",
              "      <td>1</td>\n",
              "      <td>Assassination</td>\n",
              "      <td>NaN</td>\n",
              "      <td>NaN</td>\n",
              "      <td>NaN</td>\n",
              "      <td>NaN</td>\n",
              "      <td>14</td>\n",
              "      <td>Private Citizens &amp; Property</td>\n",
              "      <td>68.0</td>\n",
              "      <td>Named Civilian</td>\n",
              "      <td>NaN</td>\n",
              "      <td>Julio Guzman</td>\n",
              "      <td>...</td>\n",
              "      <td>NaN</td>\n",
              "      <td>NaN</td>\n",
              "      <td>NaN</td>\n",
              "      <td>1.0</td>\n",
              "      <td>NaN</td>\n",
              "      <td>NaN</td>\n",
              "      <td>0.0</td>\n",
              "      <td>NaN</td>\n",
              "      <td>NaN</td>\n",
              "      <td>0</td>\n",
              "      <td>NaN</td>\n",
              "      <td>NaN</td>\n",
              "      <td>NaN</td>\n",
              "      <td>NaN</td>\n",
              "      <td>0.0</td>\n",
              "      <td>NaN</td>\n",
              "      <td>NaN</td>\n",
              "      <td>NaN</td>\n",
              "      <td>NaN</td>\n",
              "      <td>NaN</td>\n",
              "      <td>NaN</td>\n",
              "      <td>0.0</td>\n",
              "      <td>NaN</td>\n",
              "      <td>NaN</td>\n",
              "      <td>NaN</td>\n",
              "      <td>NaN</td>\n",
              "      <td>NaN</td>\n",
              "      <td>NaN</td>\n",
              "      <td>NaN</td>\n",
              "      <td>NaN</td>\n",
              "      <td>NaN</td>\n",
              "      <td>NaN</td>\n",
              "      <td>NaN</td>\n",
              "      <td>NaN</td>\n",
              "      <td>PGIS</td>\n",
              "      <td>0</td>\n",
              "      <td>0</td>\n",
              "      <td>0</td>\n",
              "      <td>0</td>\n",
              "      <td>NaN</td>\n",
              "    </tr>\n",
              "    <tr>\n",
              "      <th>1</th>\n",
              "      <td>197000000002</td>\n",
              "      <td>1970</td>\n",
              "      <td>0</td>\n",
              "      <td>0</td>\n",
              "      <td>NaN</td>\n",
              "      <td>0</td>\n",
              "      <td>NaN</td>\n",
              "      <td>130</td>\n",
              "      <td>Mexico</td>\n",
              "      <td>1</td>\n",
              "      <td>North America</td>\n",
              "      <td>Federal</td>\n",
              "      <td>Mexico city</td>\n",
              "      <td>19.371887</td>\n",
              "      <td>-99.086624</td>\n",
              "      <td>1.0</td>\n",
              "      <td>0</td>\n",
              "      <td>NaN</td>\n",
              "      <td>NaN</td>\n",
              "      <td>1</td>\n",
              "      <td>1</td>\n",
              "      <td>1</td>\n",
              "      <td>0.0</td>\n",
              "      <td>NaN</td>\n",
              "      <td>NaN</td>\n",
              "      <td>0.0</td>\n",
              "      <td>1</td>\n",
              "      <td>0</td>\n",
              "      <td>6</td>\n",
              "      <td>Hostage Taking (Kidnapping)</td>\n",
              "      <td>NaN</td>\n",
              "      <td>NaN</td>\n",
              "      <td>NaN</td>\n",
              "      <td>NaN</td>\n",
              "      <td>7</td>\n",
              "      <td>Government (Diplomatic)</td>\n",
              "      <td>45.0</td>\n",
              "      <td>Diplomatic Personnel (outside of embassy, cons...</td>\n",
              "      <td>Belgian Ambassador Daughter</td>\n",
              "      <td>Nadine Chaval, daughter</td>\n",
              "      <td>...</td>\n",
              "      <td>NaN</td>\n",
              "      <td>NaN</td>\n",
              "      <td>NaN</td>\n",
              "      <td>0.0</td>\n",
              "      <td>NaN</td>\n",
              "      <td>NaN</td>\n",
              "      <td>0.0</td>\n",
              "      <td>NaN</td>\n",
              "      <td>NaN</td>\n",
              "      <td>0</td>\n",
              "      <td>NaN</td>\n",
              "      <td>NaN</td>\n",
              "      <td>NaN</td>\n",
              "      <td>NaN</td>\n",
              "      <td>1.0</td>\n",
              "      <td>1.0</td>\n",
              "      <td>0.0</td>\n",
              "      <td>NaN</td>\n",
              "      <td>NaN</td>\n",
              "      <td>NaN</td>\n",
              "      <td>Mexico</td>\n",
              "      <td>1.0</td>\n",
              "      <td>800000.0</td>\n",
              "      <td>NaN</td>\n",
              "      <td>NaN</td>\n",
              "      <td>NaN</td>\n",
              "      <td>NaN</td>\n",
              "      <td>NaN</td>\n",
              "      <td>NaN</td>\n",
              "      <td>NaN</td>\n",
              "      <td>NaN</td>\n",
              "      <td>NaN</td>\n",
              "      <td>NaN</td>\n",
              "      <td>NaN</td>\n",
              "      <td>PGIS</td>\n",
              "      <td>0</td>\n",
              "      <td>1</td>\n",
              "      <td>1</td>\n",
              "      <td>1</td>\n",
              "      <td>NaN</td>\n",
              "    </tr>\n",
              "    <tr>\n",
              "      <th>2</th>\n",
              "      <td>197001000001</td>\n",
              "      <td>1970</td>\n",
              "      <td>1</td>\n",
              "      <td>0</td>\n",
              "      <td>NaN</td>\n",
              "      <td>0</td>\n",
              "      <td>NaN</td>\n",
              "      <td>160</td>\n",
              "      <td>Philippines</td>\n",
              "      <td>5</td>\n",
              "      <td>Southeast Asia</td>\n",
              "      <td>Tarlac</td>\n",
              "      <td>Unknown</td>\n",
              "      <td>15.478598</td>\n",
              "      <td>120.599741</td>\n",
              "      <td>4.0</td>\n",
              "      <td>0</td>\n",
              "      <td>NaN</td>\n",
              "      <td>NaN</td>\n",
              "      <td>1</td>\n",
              "      <td>1</td>\n",
              "      <td>1</td>\n",
              "      <td>0.0</td>\n",
              "      <td>NaN</td>\n",
              "      <td>NaN</td>\n",
              "      <td>0.0</td>\n",
              "      <td>1</td>\n",
              "      <td>0</td>\n",
              "      <td>1</td>\n",
              "      <td>Assassination</td>\n",
              "      <td>NaN</td>\n",
              "      <td>NaN</td>\n",
              "      <td>NaN</td>\n",
              "      <td>NaN</td>\n",
              "      <td>10</td>\n",
              "      <td>Journalists &amp; Media</td>\n",
              "      <td>54.0</td>\n",
              "      <td>Radio Journalist/Staff/Facility</td>\n",
              "      <td>Voice of America</td>\n",
              "      <td>Employee</td>\n",
              "      <td>...</td>\n",
              "      <td>NaN</td>\n",
              "      <td>NaN</td>\n",
              "      <td>NaN</td>\n",
              "      <td>1.0</td>\n",
              "      <td>NaN</td>\n",
              "      <td>NaN</td>\n",
              "      <td>0.0</td>\n",
              "      <td>NaN</td>\n",
              "      <td>NaN</td>\n",
              "      <td>0</td>\n",
              "      <td>NaN</td>\n",
              "      <td>NaN</td>\n",
              "      <td>NaN</td>\n",
              "      <td>NaN</td>\n",
              "      <td>0.0</td>\n",
              "      <td>NaN</td>\n",
              "      <td>NaN</td>\n",
              "      <td>NaN</td>\n",
              "      <td>NaN</td>\n",
              "      <td>NaN</td>\n",
              "      <td>NaN</td>\n",
              "      <td>0.0</td>\n",
              "      <td>NaN</td>\n",
              "      <td>NaN</td>\n",
              "      <td>NaN</td>\n",
              "      <td>NaN</td>\n",
              "      <td>NaN</td>\n",
              "      <td>NaN</td>\n",
              "      <td>NaN</td>\n",
              "      <td>NaN</td>\n",
              "      <td>NaN</td>\n",
              "      <td>NaN</td>\n",
              "      <td>NaN</td>\n",
              "      <td>NaN</td>\n",
              "      <td>PGIS</td>\n",
              "      <td>-9</td>\n",
              "      <td>-9</td>\n",
              "      <td>1</td>\n",
              "      <td>1</td>\n",
              "      <td>NaN</td>\n",
              "    </tr>\n",
              "    <tr>\n",
              "      <th>3</th>\n",
              "      <td>197001000002</td>\n",
              "      <td>1970</td>\n",
              "      <td>1</td>\n",
              "      <td>0</td>\n",
              "      <td>NaN</td>\n",
              "      <td>0</td>\n",
              "      <td>NaN</td>\n",
              "      <td>78</td>\n",
              "      <td>Greece</td>\n",
              "      <td>8</td>\n",
              "      <td>Western Europe</td>\n",
              "      <td>Attica</td>\n",
              "      <td>Athens</td>\n",
              "      <td>37.997490</td>\n",
              "      <td>23.762728</td>\n",
              "      <td>1.0</td>\n",
              "      <td>0</td>\n",
              "      <td>NaN</td>\n",
              "      <td>NaN</td>\n",
              "      <td>1</td>\n",
              "      <td>1</td>\n",
              "      <td>1</td>\n",
              "      <td>0.0</td>\n",
              "      <td>NaN</td>\n",
              "      <td>NaN</td>\n",
              "      <td>0.0</td>\n",
              "      <td>1</td>\n",
              "      <td>0</td>\n",
              "      <td>3</td>\n",
              "      <td>Bombing/Explosion</td>\n",
              "      <td>NaN</td>\n",
              "      <td>NaN</td>\n",
              "      <td>NaN</td>\n",
              "      <td>NaN</td>\n",
              "      <td>7</td>\n",
              "      <td>Government (Diplomatic)</td>\n",
              "      <td>46.0</td>\n",
              "      <td>Embassy/Consulate</td>\n",
              "      <td>NaN</td>\n",
              "      <td>U.S. Embassy</td>\n",
              "      <td>...</td>\n",
              "      <td>NaN</td>\n",
              "      <td>NaN</td>\n",
              "      <td>Explosive</td>\n",
              "      <td>NaN</td>\n",
              "      <td>NaN</td>\n",
              "      <td>NaN</td>\n",
              "      <td>NaN</td>\n",
              "      <td>NaN</td>\n",
              "      <td>NaN</td>\n",
              "      <td>1</td>\n",
              "      <td>NaN</td>\n",
              "      <td>NaN</td>\n",
              "      <td>NaN</td>\n",
              "      <td>NaN</td>\n",
              "      <td>0.0</td>\n",
              "      <td>NaN</td>\n",
              "      <td>NaN</td>\n",
              "      <td>NaN</td>\n",
              "      <td>NaN</td>\n",
              "      <td>NaN</td>\n",
              "      <td>NaN</td>\n",
              "      <td>0.0</td>\n",
              "      <td>NaN</td>\n",
              "      <td>NaN</td>\n",
              "      <td>NaN</td>\n",
              "      <td>NaN</td>\n",
              "      <td>NaN</td>\n",
              "      <td>NaN</td>\n",
              "      <td>NaN</td>\n",
              "      <td>NaN</td>\n",
              "      <td>NaN</td>\n",
              "      <td>NaN</td>\n",
              "      <td>NaN</td>\n",
              "      <td>NaN</td>\n",
              "      <td>PGIS</td>\n",
              "      <td>-9</td>\n",
              "      <td>-9</td>\n",
              "      <td>1</td>\n",
              "      <td>1</td>\n",
              "      <td>NaN</td>\n",
              "    </tr>\n",
              "    <tr>\n",
              "      <th>4</th>\n",
              "      <td>197001000003</td>\n",
              "      <td>1970</td>\n",
              "      <td>1</td>\n",
              "      <td>0</td>\n",
              "      <td>NaN</td>\n",
              "      <td>0</td>\n",
              "      <td>NaN</td>\n",
              "      <td>101</td>\n",
              "      <td>Japan</td>\n",
              "      <td>4</td>\n",
              "      <td>East Asia</td>\n",
              "      <td>Fukouka</td>\n",
              "      <td>Fukouka</td>\n",
              "      <td>33.580412</td>\n",
              "      <td>130.396361</td>\n",
              "      <td>1.0</td>\n",
              "      <td>0</td>\n",
              "      <td>NaN</td>\n",
              "      <td>NaN</td>\n",
              "      <td>1</td>\n",
              "      <td>1</td>\n",
              "      <td>1</td>\n",
              "      <td>-9.0</td>\n",
              "      <td>NaN</td>\n",
              "      <td>NaN</td>\n",
              "      <td>0.0</td>\n",
              "      <td>1</td>\n",
              "      <td>0</td>\n",
              "      <td>7</td>\n",
              "      <td>Facility/Infrastructure Attack</td>\n",
              "      <td>NaN</td>\n",
              "      <td>NaN</td>\n",
              "      <td>NaN</td>\n",
              "      <td>NaN</td>\n",
              "      <td>7</td>\n",
              "      <td>Government (Diplomatic)</td>\n",
              "      <td>46.0</td>\n",
              "      <td>Embassy/Consulate</td>\n",
              "      <td>NaN</td>\n",
              "      <td>U.S. Consulate</td>\n",
              "      <td>...</td>\n",
              "      <td>NaN</td>\n",
              "      <td>NaN</td>\n",
              "      <td>Incendiary</td>\n",
              "      <td>NaN</td>\n",
              "      <td>NaN</td>\n",
              "      <td>NaN</td>\n",
              "      <td>NaN</td>\n",
              "      <td>NaN</td>\n",
              "      <td>NaN</td>\n",
              "      <td>1</td>\n",
              "      <td>NaN</td>\n",
              "      <td>NaN</td>\n",
              "      <td>NaN</td>\n",
              "      <td>NaN</td>\n",
              "      <td>0.0</td>\n",
              "      <td>NaN</td>\n",
              "      <td>NaN</td>\n",
              "      <td>NaN</td>\n",
              "      <td>NaN</td>\n",
              "      <td>NaN</td>\n",
              "      <td>NaN</td>\n",
              "      <td>0.0</td>\n",
              "      <td>NaN</td>\n",
              "      <td>NaN</td>\n",
              "      <td>NaN</td>\n",
              "      <td>NaN</td>\n",
              "      <td>NaN</td>\n",
              "      <td>NaN</td>\n",
              "      <td>NaN</td>\n",
              "      <td>NaN</td>\n",
              "      <td>NaN</td>\n",
              "      <td>NaN</td>\n",
              "      <td>NaN</td>\n",
              "      <td>NaN</td>\n",
              "      <td>PGIS</td>\n",
              "      <td>-9</td>\n",
              "      <td>-9</td>\n",
              "      <td>1</td>\n",
              "      <td>1</td>\n",
              "      <td>NaN</td>\n",
              "    </tr>\n",
              "  </tbody>\n",
              "</table>\n",
              "<p>5 rows × 135 columns</p>\n",
              "</div>"
            ],
            "text/plain": [
              "        eventid  iyear  imonth  iday  ... INT_IDEO  INT_MISC INT_ANY  related\n",
              "0  197000000001   1970       7     2  ...        0         0       0      NaN\n",
              "1  197000000002   1970       0     0  ...        1         1       1      NaN\n",
              "2  197001000001   1970       1     0  ...       -9         1       1      NaN\n",
              "3  197001000002   1970       1     0  ...       -9         1       1      NaN\n",
              "4  197001000003   1970       1     0  ...       -9         1       1      NaN\n",
              "\n",
              "[5 rows x 135 columns]"
            ]
          },
          "metadata": {
            "tags": []
          },
          "execution_count": 5
        }
      ]
    },
    {
      "cell_type": "code",
      "metadata": {
        "colab": {
          "base_uri": "https://localhost:8080/"
        },
        "id": "zk0XY_LpbiIc",
        "outputId": "61cc1e72-9494-4b0c-dde7-00a865f12ad5"
      },
      "source": [
        "td.info()"
      ],
      "execution_count": 6,
      "outputs": [
        {
          "output_type": "stream",
          "text": [
            "<class 'pandas.core.frame.DataFrame'>\n",
            "RangeIndex: 181691 entries, 0 to 181690\n",
            "Columns: 135 entries, eventid to related\n",
            "dtypes: float64(55), int64(22), object(58)\n",
            "memory usage: 187.1+ MB\n"
          ],
          "name": "stdout"
        }
      ]
    },
    {
      "cell_type": "code",
      "metadata": {
        "colab": {
          "base_uri": "https://localhost:8080/"
        },
        "id": "gUxhPi3_b5Vp",
        "outputId": "607065b4-ab4e-4bd5-ff45-b9d6005cb816"
      },
      "source": [
        "td.nunique()"
      ],
      "execution_count": 7,
      "outputs": [
        {
          "output_type": "execute_result",
          "data": {
            "text/plain": [
              "eventid       181691\n",
              "iyear             47\n",
              "imonth            13\n",
              "iday              32\n",
              "approxdate      2244\n",
              "               ...  \n",
              "INT_LOG            3\n",
              "INT_IDEO           3\n",
              "INT_MISC           3\n",
              "INT_ANY            3\n",
              "related        14306\n",
              "Length: 135, dtype: int64"
            ]
          },
          "metadata": {
            "tags": []
          },
          "execution_count": 7
        }
      ]
    },
    {
      "cell_type": "code",
      "metadata": {
        "colab": {
          "base_uri": "https://localhost:8080/",
          "height": 320
        },
        "id": "uanA_oo4cFEI",
        "outputId": "ae92cd4f-a869-40d5-fac3-7c0cf29f6e96"
      },
      "source": [
        "td.describe()"
      ],
      "execution_count": 8,
      "outputs": [
        {
          "output_type": "execute_result",
          "data": {
            "text/html": [
              "<div>\n",
              "<style scoped>\n",
              "    .dataframe tbody tr th:only-of-type {\n",
              "        vertical-align: middle;\n",
              "    }\n",
              "\n",
              "    .dataframe tbody tr th {\n",
              "        vertical-align: top;\n",
              "    }\n",
              "\n",
              "    .dataframe thead th {\n",
              "        text-align: right;\n",
              "    }\n",
              "</style>\n",
              "<table border=\"1\" class=\"dataframe\">\n",
              "  <thead>\n",
              "    <tr style=\"text-align: right;\">\n",
              "      <th></th>\n",
              "      <th>eventid</th>\n",
              "      <th>iyear</th>\n",
              "      <th>imonth</th>\n",
              "      <th>iday</th>\n",
              "      <th>extended</th>\n",
              "      <th>country</th>\n",
              "      <th>region</th>\n",
              "      <th>latitude</th>\n",
              "      <th>longitude</th>\n",
              "      <th>specificity</th>\n",
              "      <th>vicinity</th>\n",
              "      <th>crit1</th>\n",
              "      <th>crit2</th>\n",
              "      <th>crit3</th>\n",
              "      <th>doubtterr</th>\n",
              "      <th>alternative</th>\n",
              "      <th>multiple</th>\n",
              "      <th>success</th>\n",
              "      <th>suicide</th>\n",
              "      <th>attacktype1</th>\n",
              "      <th>attacktype2</th>\n",
              "      <th>attacktype3</th>\n",
              "      <th>targtype1</th>\n",
              "      <th>targsubtype1</th>\n",
              "      <th>natlty1</th>\n",
              "      <th>targtype2</th>\n",
              "      <th>targsubtype2</th>\n",
              "      <th>natlty2</th>\n",
              "      <th>targtype3</th>\n",
              "      <th>targsubtype3</th>\n",
              "      <th>natlty3</th>\n",
              "      <th>guncertain1</th>\n",
              "      <th>guncertain2</th>\n",
              "      <th>guncertain3</th>\n",
              "      <th>individual</th>\n",
              "      <th>nperps</th>\n",
              "      <th>nperpcap</th>\n",
              "      <th>claimed</th>\n",
              "      <th>claimmode</th>\n",
              "      <th>claim2</th>\n",
              "      <th>claimmode2</th>\n",
              "      <th>claim3</th>\n",
              "      <th>claimmode3</th>\n",
              "      <th>compclaim</th>\n",
              "      <th>weaptype1</th>\n",
              "      <th>weapsubtype1</th>\n",
              "      <th>weaptype2</th>\n",
              "      <th>weapsubtype2</th>\n",
              "      <th>weaptype3</th>\n",
              "      <th>weapsubtype3</th>\n",
              "      <th>weaptype4</th>\n",
              "      <th>weapsubtype4</th>\n",
              "      <th>nkill</th>\n",
              "      <th>nkillus</th>\n",
              "      <th>nkillter</th>\n",
              "      <th>nwound</th>\n",
              "      <th>nwoundus</th>\n",
              "      <th>nwoundte</th>\n",
              "      <th>property</th>\n",
              "      <th>propextent</th>\n",
              "      <th>propvalue</th>\n",
              "      <th>ishostkid</th>\n",
              "      <th>nhostkid</th>\n",
              "      <th>nhostkidus</th>\n",
              "      <th>nhours</th>\n",
              "      <th>ndays</th>\n",
              "      <th>ransom</th>\n",
              "      <th>ransomamt</th>\n",
              "      <th>ransomamtus</th>\n",
              "      <th>ransompaid</th>\n",
              "      <th>ransompaidus</th>\n",
              "      <th>hostkidoutcome</th>\n",
              "      <th>nreleased</th>\n",
              "      <th>INT_LOG</th>\n",
              "      <th>INT_IDEO</th>\n",
              "      <th>INT_MISC</th>\n",
              "      <th>INT_ANY</th>\n",
              "    </tr>\n",
              "  </thead>\n",
              "  <tbody>\n",
              "    <tr>\n",
              "      <th>count</th>\n",
              "      <td>1.816910e+05</td>\n",
              "      <td>181691.000000</td>\n",
              "      <td>181691.000000</td>\n",
              "      <td>181691.000000</td>\n",
              "      <td>181691.000000</td>\n",
              "      <td>181691.000000</td>\n",
              "      <td>181691.000000</td>\n",
              "      <td>177135.000000</td>\n",
              "      <td>1.771340e+05</td>\n",
              "      <td>181685.000000</td>\n",
              "      <td>181691.000000</td>\n",
              "      <td>181691.000000</td>\n",
              "      <td>181691.000000</td>\n",
              "      <td>181691.000000</td>\n",
              "      <td>181690.000000</td>\n",
              "      <td>29011.000000</td>\n",
              "      <td>181690.000000</td>\n",
              "      <td>181691.000000</td>\n",
              "      <td>181691.000000</td>\n",
              "      <td>181691.000000</td>\n",
              "      <td>6314.000000</td>\n",
              "      <td>428.000000</td>\n",
              "      <td>181691.000000</td>\n",
              "      <td>171318.000000</td>\n",
              "      <td>180132.000000</td>\n",
              "      <td>11144.000000</td>\n",
              "      <td>10685.000000</td>\n",
              "      <td>10828.000000</td>\n",
              "      <td>1176.000000</td>\n",
              "      <td>1097.000000</td>\n",
              "      <td>1147.000000</td>\n",
              "      <td>181311.000000</td>\n",
              "      <td>1955.000000</td>\n",
              "      <td>320.000000</td>\n",
              "      <td>181691.000000</td>\n",
              "      <td>110576.000000</td>\n",
              "      <td>112202.000000</td>\n",
              "      <td>115571.000000</td>\n",
              "      <td>19083.000000</td>\n",
              "      <td>1890.000000</td>\n",
              "      <td>616.000000</td>\n",
              "      <td>318.000000</td>\n",
              "      <td>133.000000</td>\n",
              "      <td>4839.000000</td>\n",
              "      <td>181691.000000</td>\n",
              "      <td>160923.000000</td>\n",
              "      <td>13127.000000</td>\n",
              "      <td>11542.000000</td>\n",
              "      <td>1863.000000</td>\n",
              "      <td>1693.000000</td>\n",
              "      <td>73.000000</td>\n",
              "      <td>70.000000</td>\n",
              "      <td>171378.000000</td>\n",
              "      <td>117245.000000</td>\n",
              "      <td>114733.000000</td>\n",
              "      <td>165380.000000</td>\n",
              "      <td>116989.000000</td>\n",
              "      <td>112548.000000</td>\n",
              "      <td>181691.000000</td>\n",
              "      <td>64065.000000</td>\n",
              "      <td>3.898900e+04</td>\n",
              "      <td>181513.000000</td>\n",
              "      <td>13572.000000</td>\n",
              "      <td>13517.000000</td>\n",
              "      <td>4063.000000</td>\n",
              "      <td>8124.000000</td>\n",
              "      <td>77381.000000</td>\n",
              "      <td>1.350000e+03</td>\n",
              "      <td>5.630000e+02</td>\n",
              "      <td>7.740000e+02</td>\n",
              "      <td>552.000000</td>\n",
              "      <td>10991.000000</td>\n",
              "      <td>10400.000000</td>\n",
              "      <td>181691.000000</td>\n",
              "      <td>181691.000000</td>\n",
              "      <td>181691.000000</td>\n",
              "      <td>181691.000000</td>\n",
              "    </tr>\n",
              "    <tr>\n",
              "      <th>mean</th>\n",
              "      <td>2.002705e+11</td>\n",
              "      <td>2002.638997</td>\n",
              "      <td>6.467277</td>\n",
              "      <td>15.505644</td>\n",
              "      <td>0.045346</td>\n",
              "      <td>131.968501</td>\n",
              "      <td>7.160938</td>\n",
              "      <td>23.498343</td>\n",
              "      <td>-4.586957e+02</td>\n",
              "      <td>1.451452</td>\n",
              "      <td>0.068297</td>\n",
              "      <td>0.988530</td>\n",
              "      <td>0.993093</td>\n",
              "      <td>0.875668</td>\n",
              "      <td>-0.523171</td>\n",
              "      <td>1.292923</td>\n",
              "      <td>0.137773</td>\n",
              "      <td>0.889598</td>\n",
              "      <td>0.036507</td>\n",
              "      <td>3.247547</td>\n",
              "      <td>3.719512</td>\n",
              "      <td>5.245327</td>\n",
              "      <td>8.439719</td>\n",
              "      <td>46.971474</td>\n",
              "      <td>127.686441</td>\n",
              "      <td>10.247218</td>\n",
              "      <td>55.311652</td>\n",
              "      <td>131.179442</td>\n",
              "      <td>10.021259</td>\n",
              "      <td>55.548769</td>\n",
              "      <td>144.564952</td>\n",
              "      <td>0.081440</td>\n",
              "      <td>0.265473</td>\n",
              "      <td>0.193750</td>\n",
              "      <td>0.002950</td>\n",
              "      <td>-65.361154</td>\n",
              "      <td>-1.517727</td>\n",
              "      <td>0.049666</td>\n",
              "      <td>7.022848</td>\n",
              "      <td>0.247619</td>\n",
              "      <td>7.176948</td>\n",
              "      <td>0.411950</td>\n",
              "      <td>6.729323</td>\n",
              "      <td>-6.296342</td>\n",
              "      <td>6.447325</td>\n",
              "      <td>11.117162</td>\n",
              "      <td>6.812524</td>\n",
              "      <td>10.754029</td>\n",
              "      <td>6.911433</td>\n",
              "      <td>11.643237</td>\n",
              "      <td>6.246575</td>\n",
              "      <td>10.842857</td>\n",
              "      <td>2.403272</td>\n",
              "      <td>0.045981</td>\n",
              "      <td>0.508058</td>\n",
              "      <td>3.167668</td>\n",
              "      <td>0.038944</td>\n",
              "      <td>0.107163</td>\n",
              "      <td>-0.544556</td>\n",
              "      <td>3.295403</td>\n",
              "      <td>2.088119e+05</td>\n",
              "      <td>0.059054</td>\n",
              "      <td>4.533230</td>\n",
              "      <td>-0.353999</td>\n",
              "      <td>-46.793933</td>\n",
              "      <td>-32.516371</td>\n",
              "      <td>-0.145811</td>\n",
              "      <td>3.172530e+06</td>\n",
              "      <td>5.784865e+05</td>\n",
              "      <td>7.179437e+05</td>\n",
              "      <td>240.378623</td>\n",
              "      <td>4.629242</td>\n",
              "      <td>-29.018269</td>\n",
              "      <td>-4.543731</td>\n",
              "      <td>-4.464398</td>\n",
              "      <td>0.090010</td>\n",
              "      <td>-3.945952</td>\n",
              "    </tr>\n",
              "    <tr>\n",
              "      <th>std</th>\n",
              "      <td>1.325957e+09</td>\n",
              "      <td>13.259430</td>\n",
              "      <td>3.388303</td>\n",
              "      <td>8.814045</td>\n",
              "      <td>0.208063</td>\n",
              "      <td>112.414535</td>\n",
              "      <td>2.933408</td>\n",
              "      <td>18.569242</td>\n",
              "      <td>2.047790e+05</td>\n",
              "      <td>0.995430</td>\n",
              "      <td>0.284553</td>\n",
              "      <td>0.106483</td>\n",
              "      <td>0.082823</td>\n",
              "      <td>0.329961</td>\n",
              "      <td>2.455819</td>\n",
              "      <td>0.703729</td>\n",
              "      <td>0.344663</td>\n",
              "      <td>0.313391</td>\n",
              "      <td>0.187549</td>\n",
              "      <td>1.915772</td>\n",
              "      <td>2.272023</td>\n",
              "      <td>2.246642</td>\n",
              "      <td>6.653838</td>\n",
              "      <td>30.953357</td>\n",
              "      <td>89.299120</td>\n",
              "      <td>5.709076</td>\n",
              "      <td>25.640310</td>\n",
              "      <td>125.951485</td>\n",
              "      <td>5.723447</td>\n",
              "      <td>26.288955</td>\n",
              "      <td>163.299295</td>\n",
              "      <td>0.273511</td>\n",
              "      <td>0.441698</td>\n",
              "      <td>0.395854</td>\n",
              "      <td>0.054234</td>\n",
              "      <td>216.536633</td>\n",
              "      <td>12.830346</td>\n",
              "      <td>1.093195</td>\n",
              "      <td>2.476851</td>\n",
              "      <td>0.974018</td>\n",
              "      <td>2.783725</td>\n",
              "      <td>0.492962</td>\n",
              "      <td>2.908003</td>\n",
              "      <td>4.234620</td>\n",
              "      <td>2.173435</td>\n",
              "      <td>6.495612</td>\n",
              "      <td>2.277081</td>\n",
              "      <td>7.594574</td>\n",
              "      <td>2.177956</td>\n",
              "      <td>8.493166</td>\n",
              "      <td>1.507212</td>\n",
              "      <td>8.192672</td>\n",
              "      <td>11.545741</td>\n",
              "      <td>5.681854</td>\n",
              "      <td>4.199937</td>\n",
              "      <td>35.949392</td>\n",
              "      <td>3.057361</td>\n",
              "      <td>1.488881</td>\n",
              "      <td>3.122889</td>\n",
              "      <td>0.486912</td>\n",
              "      <td>1.552463e+07</td>\n",
              "      <td>0.461244</td>\n",
              "      <td>202.316386</td>\n",
              "      <td>6.835645</td>\n",
              "      <td>82.800405</td>\n",
              "      <td>121.209205</td>\n",
              "      <td>1.207861</td>\n",
              "      <td>3.021157e+07</td>\n",
              "      <td>7.077924e+06</td>\n",
              "      <td>1.014392e+07</td>\n",
              "      <td>2940.967293</td>\n",
              "      <td>2.035360</td>\n",
              "      <td>65.720119</td>\n",
              "      <td>4.543547</td>\n",
              "      <td>4.637152</td>\n",
              "      <td>0.568457</td>\n",
              "      <td>4.691325</td>\n",
              "    </tr>\n",
              "    <tr>\n",
              "      <th>min</th>\n",
              "      <td>1.970000e+11</td>\n",
              "      <td>1970.000000</td>\n",
              "      <td>0.000000</td>\n",
              "      <td>0.000000</td>\n",
              "      <td>0.000000</td>\n",
              "      <td>4.000000</td>\n",
              "      <td>1.000000</td>\n",
              "      <td>-53.154613</td>\n",
              "      <td>-8.618590e+07</td>\n",
              "      <td>1.000000</td>\n",
              "      <td>-9.000000</td>\n",
              "      <td>0.000000</td>\n",
              "      <td>0.000000</td>\n",
              "      <td>0.000000</td>\n",
              "      <td>-9.000000</td>\n",
              "      <td>1.000000</td>\n",
              "      <td>0.000000</td>\n",
              "      <td>0.000000</td>\n",
              "      <td>0.000000</td>\n",
              "      <td>1.000000</td>\n",
              "      <td>1.000000</td>\n",
              "      <td>1.000000</td>\n",
              "      <td>1.000000</td>\n",
              "      <td>1.000000</td>\n",
              "      <td>4.000000</td>\n",
              "      <td>1.000000</td>\n",
              "      <td>1.000000</td>\n",
              "      <td>4.000000</td>\n",
              "      <td>1.000000</td>\n",
              "      <td>1.000000</td>\n",
              "      <td>4.000000</td>\n",
              "      <td>0.000000</td>\n",
              "      <td>0.000000</td>\n",
              "      <td>0.000000</td>\n",
              "      <td>0.000000</td>\n",
              "      <td>-99.000000</td>\n",
              "      <td>-99.000000</td>\n",
              "      <td>-9.000000</td>\n",
              "      <td>1.000000</td>\n",
              "      <td>-9.000000</td>\n",
              "      <td>1.000000</td>\n",
              "      <td>0.000000</td>\n",
              "      <td>1.000000</td>\n",
              "      <td>-9.000000</td>\n",
              "      <td>1.000000</td>\n",
              "      <td>1.000000</td>\n",
              "      <td>1.000000</td>\n",
              "      <td>1.000000</td>\n",
              "      <td>2.000000</td>\n",
              "      <td>1.000000</td>\n",
              "      <td>5.000000</td>\n",
              "      <td>2.000000</td>\n",
              "      <td>0.000000</td>\n",
              "      <td>0.000000</td>\n",
              "      <td>0.000000</td>\n",
              "      <td>0.000000</td>\n",
              "      <td>0.000000</td>\n",
              "      <td>0.000000</td>\n",
              "      <td>-9.000000</td>\n",
              "      <td>1.000000</td>\n",
              "      <td>-9.900000e+01</td>\n",
              "      <td>-9.000000</td>\n",
              "      <td>-99.000000</td>\n",
              "      <td>-99.000000</td>\n",
              "      <td>-99.000000</td>\n",
              "      <td>-99.000000</td>\n",
              "      <td>-9.000000</td>\n",
              "      <td>-9.900000e+01</td>\n",
              "      <td>-9.900000e+01</td>\n",
              "      <td>-9.900000e+01</td>\n",
              "      <td>-99.000000</td>\n",
              "      <td>1.000000</td>\n",
              "      <td>-99.000000</td>\n",
              "      <td>-9.000000</td>\n",
              "      <td>-9.000000</td>\n",
              "      <td>-9.000000</td>\n",
              "      <td>-9.000000</td>\n",
              "    </tr>\n",
              "    <tr>\n",
              "      <th>25%</th>\n",
              "      <td>1.991021e+11</td>\n",
              "      <td>1991.000000</td>\n",
              "      <td>4.000000</td>\n",
              "      <td>8.000000</td>\n",
              "      <td>0.000000</td>\n",
              "      <td>78.000000</td>\n",
              "      <td>5.000000</td>\n",
              "      <td>11.510046</td>\n",
              "      <td>4.545640e+00</td>\n",
              "      <td>1.000000</td>\n",
              "      <td>0.000000</td>\n",
              "      <td>1.000000</td>\n",
              "      <td>1.000000</td>\n",
              "      <td>1.000000</td>\n",
              "      <td>0.000000</td>\n",
              "      <td>1.000000</td>\n",
              "      <td>0.000000</td>\n",
              "      <td>1.000000</td>\n",
              "      <td>0.000000</td>\n",
              "      <td>2.000000</td>\n",
              "      <td>2.000000</td>\n",
              "      <td>2.000000</td>\n",
              "      <td>3.000000</td>\n",
              "      <td>22.000000</td>\n",
              "      <td>83.000000</td>\n",
              "      <td>4.000000</td>\n",
              "      <td>34.000000</td>\n",
              "      <td>92.000000</td>\n",
              "      <td>3.000000</td>\n",
              "      <td>33.000000</td>\n",
              "      <td>75.000000</td>\n",
              "      <td>0.000000</td>\n",
              "      <td>0.000000</td>\n",
              "      <td>0.000000</td>\n",
              "      <td>0.000000</td>\n",
              "      <td>-99.000000</td>\n",
              "      <td>0.000000</td>\n",
              "      <td>0.000000</td>\n",
              "      <td>6.000000</td>\n",
              "      <td>0.000000</td>\n",
              "      <td>6.000000</td>\n",
              "      <td>0.000000</td>\n",
              "      <td>4.000000</td>\n",
              "      <td>-9.000000</td>\n",
              "      <td>5.000000</td>\n",
              "      <td>5.000000</td>\n",
              "      <td>5.000000</td>\n",
              "      <td>5.000000</td>\n",
              "      <td>5.000000</td>\n",
              "      <td>4.000000</td>\n",
              "      <td>5.000000</td>\n",
              "      <td>3.000000</td>\n",
              "      <td>0.000000</td>\n",
              "      <td>0.000000</td>\n",
              "      <td>0.000000</td>\n",
              "      <td>0.000000</td>\n",
              "      <td>0.000000</td>\n",
              "      <td>0.000000</td>\n",
              "      <td>0.000000</td>\n",
              "      <td>3.000000</td>\n",
              "      <td>-9.900000e+01</td>\n",
              "      <td>0.000000</td>\n",
              "      <td>1.000000</td>\n",
              "      <td>0.000000</td>\n",
              "      <td>-99.000000</td>\n",
              "      <td>-99.000000</td>\n",
              "      <td>0.000000</td>\n",
              "      <td>0.000000e+00</td>\n",
              "      <td>0.000000e+00</td>\n",
              "      <td>-9.900000e+01</td>\n",
              "      <td>0.000000</td>\n",
              "      <td>2.000000</td>\n",
              "      <td>-99.000000</td>\n",
              "      <td>-9.000000</td>\n",
              "      <td>-9.000000</td>\n",
              "      <td>0.000000</td>\n",
              "      <td>-9.000000</td>\n",
              "    </tr>\n",
              "    <tr>\n",
              "      <th>50%</th>\n",
              "      <td>2.009022e+11</td>\n",
              "      <td>2009.000000</td>\n",
              "      <td>6.000000</td>\n",
              "      <td>15.000000</td>\n",
              "      <td>0.000000</td>\n",
              "      <td>98.000000</td>\n",
              "      <td>6.000000</td>\n",
              "      <td>31.467463</td>\n",
              "      <td>4.324651e+01</td>\n",
              "      <td>1.000000</td>\n",
              "      <td>0.000000</td>\n",
              "      <td>1.000000</td>\n",
              "      <td>1.000000</td>\n",
              "      <td>1.000000</td>\n",
              "      <td>0.000000</td>\n",
              "      <td>1.000000</td>\n",
              "      <td>0.000000</td>\n",
              "      <td>1.000000</td>\n",
              "      <td>0.000000</td>\n",
              "      <td>3.000000</td>\n",
              "      <td>2.000000</td>\n",
              "      <td>7.000000</td>\n",
              "      <td>4.000000</td>\n",
              "      <td>35.000000</td>\n",
              "      <td>101.000000</td>\n",
              "      <td>14.000000</td>\n",
              "      <td>67.000000</td>\n",
              "      <td>98.000000</td>\n",
              "      <td>14.000000</td>\n",
              "      <td>67.000000</td>\n",
              "      <td>110.000000</td>\n",
              "      <td>0.000000</td>\n",
              "      <td>0.000000</td>\n",
              "      <td>0.000000</td>\n",
              "      <td>0.000000</td>\n",
              "      <td>-99.000000</td>\n",
              "      <td>0.000000</td>\n",
              "      <td>0.000000</td>\n",
              "      <td>8.000000</td>\n",
              "      <td>0.000000</td>\n",
              "      <td>7.000000</td>\n",
              "      <td>0.000000</td>\n",
              "      <td>7.000000</td>\n",
              "      <td>-9.000000</td>\n",
              "      <td>6.000000</td>\n",
              "      <td>12.000000</td>\n",
              "      <td>6.000000</td>\n",
              "      <td>7.000000</td>\n",
              "      <td>6.000000</td>\n",
              "      <td>7.000000</td>\n",
              "      <td>6.000000</td>\n",
              "      <td>9.500000</td>\n",
              "      <td>0.000000</td>\n",
              "      <td>0.000000</td>\n",
              "      <td>0.000000</td>\n",
              "      <td>0.000000</td>\n",
              "      <td>0.000000</td>\n",
              "      <td>0.000000</td>\n",
              "      <td>1.000000</td>\n",
              "      <td>3.000000</td>\n",
              "      <td>-9.900000e+01</td>\n",
              "      <td>0.000000</td>\n",
              "      <td>2.000000</td>\n",
              "      <td>0.000000</td>\n",
              "      <td>-99.000000</td>\n",
              "      <td>-99.000000</td>\n",
              "      <td>0.000000</td>\n",
              "      <td>1.500000e+04</td>\n",
              "      <td>0.000000e+00</td>\n",
              "      <td>0.000000e+00</td>\n",
              "      <td>0.000000</td>\n",
              "      <td>4.000000</td>\n",
              "      <td>0.000000</td>\n",
              "      <td>-9.000000</td>\n",
              "      <td>-9.000000</td>\n",
              "      <td>0.000000</td>\n",
              "      <td>0.000000</td>\n",
              "    </tr>\n",
              "    <tr>\n",
              "      <th>75%</th>\n",
              "      <td>2.014081e+11</td>\n",
              "      <td>2014.000000</td>\n",
              "      <td>9.000000</td>\n",
              "      <td>23.000000</td>\n",
              "      <td>0.000000</td>\n",
              "      <td>160.000000</td>\n",
              "      <td>10.000000</td>\n",
              "      <td>34.685087</td>\n",
              "      <td>6.871033e+01</td>\n",
              "      <td>1.000000</td>\n",
              "      <td>0.000000</td>\n",
              "      <td>1.000000</td>\n",
              "      <td>1.000000</td>\n",
              "      <td>1.000000</td>\n",
              "      <td>0.000000</td>\n",
              "      <td>1.000000</td>\n",
              "      <td>0.000000</td>\n",
              "      <td>1.000000</td>\n",
              "      <td>0.000000</td>\n",
              "      <td>3.000000</td>\n",
              "      <td>7.000000</td>\n",
              "      <td>7.000000</td>\n",
              "      <td>14.000000</td>\n",
              "      <td>74.000000</td>\n",
              "      <td>173.000000</td>\n",
              "      <td>14.000000</td>\n",
              "      <td>69.000000</td>\n",
              "      <td>182.000000</td>\n",
              "      <td>14.000000</td>\n",
              "      <td>73.000000</td>\n",
              "      <td>182.000000</td>\n",
              "      <td>0.000000</td>\n",
              "      <td>1.000000</td>\n",
              "      <td>0.000000</td>\n",
              "      <td>0.000000</td>\n",
              "      <td>1.000000</td>\n",
              "      <td>0.000000</td>\n",
              "      <td>0.000000</td>\n",
              "      <td>8.000000</td>\n",
              "      <td>1.000000</td>\n",
              "      <td>10.000000</td>\n",
              "      <td>1.000000</td>\n",
              "      <td>9.000000</td>\n",
              "      <td>0.000000</td>\n",
              "      <td>6.000000</td>\n",
              "      <td>16.000000</td>\n",
              "      <td>8.000000</td>\n",
              "      <td>18.000000</td>\n",
              "      <td>9.000000</td>\n",
              "      <td>20.000000</td>\n",
              "      <td>6.000000</td>\n",
              "      <td>16.000000</td>\n",
              "      <td>2.000000</td>\n",
              "      <td>0.000000</td>\n",
              "      <td>0.000000</td>\n",
              "      <td>2.000000</td>\n",
              "      <td>0.000000</td>\n",
              "      <td>0.000000</td>\n",
              "      <td>1.000000</td>\n",
              "      <td>4.000000</td>\n",
              "      <td>1.000000e+03</td>\n",
              "      <td>0.000000</td>\n",
              "      <td>4.000000</td>\n",
              "      <td>0.000000</td>\n",
              "      <td>0.000000</td>\n",
              "      <td>4.000000</td>\n",
              "      <td>0.000000</td>\n",
              "      <td>4.000000e+05</td>\n",
              "      <td>0.000000e+00</td>\n",
              "      <td>1.273412e+03</td>\n",
              "      <td>0.000000</td>\n",
              "      <td>7.000000</td>\n",
              "      <td>1.000000</td>\n",
              "      <td>0.000000</td>\n",
              "      <td>0.000000</td>\n",
              "      <td>0.000000</td>\n",
              "      <td>0.000000</td>\n",
              "    </tr>\n",
              "    <tr>\n",
              "      <th>max</th>\n",
              "      <td>2.017123e+11</td>\n",
              "      <td>2017.000000</td>\n",
              "      <td>12.000000</td>\n",
              "      <td>31.000000</td>\n",
              "      <td>1.000000</td>\n",
              "      <td>1004.000000</td>\n",
              "      <td>12.000000</td>\n",
              "      <td>74.633553</td>\n",
              "      <td>1.793667e+02</td>\n",
              "      <td>5.000000</td>\n",
              "      <td>1.000000</td>\n",
              "      <td>1.000000</td>\n",
              "      <td>1.000000</td>\n",
              "      <td>1.000000</td>\n",
              "      <td>1.000000</td>\n",
              "      <td>5.000000</td>\n",
              "      <td>1.000000</td>\n",
              "      <td>1.000000</td>\n",
              "      <td>1.000000</td>\n",
              "      <td>9.000000</td>\n",
              "      <td>9.000000</td>\n",
              "      <td>8.000000</td>\n",
              "      <td>22.000000</td>\n",
              "      <td>113.000000</td>\n",
              "      <td>1004.000000</td>\n",
              "      <td>22.000000</td>\n",
              "      <td>113.000000</td>\n",
              "      <td>1004.000000</td>\n",
              "      <td>22.000000</td>\n",
              "      <td>113.000000</td>\n",
              "      <td>1004.000000</td>\n",
              "      <td>1.000000</td>\n",
              "      <td>1.000000</td>\n",
              "      <td>1.000000</td>\n",
              "      <td>1.000000</td>\n",
              "      <td>25000.000000</td>\n",
              "      <td>406.000000</td>\n",
              "      <td>1.000000</td>\n",
              "      <td>10.000000</td>\n",
              "      <td>1.000000</td>\n",
              "      <td>10.000000</td>\n",
              "      <td>1.000000</td>\n",
              "      <td>10.000000</td>\n",
              "      <td>1.000000</td>\n",
              "      <td>13.000000</td>\n",
              "      <td>31.000000</td>\n",
              "      <td>13.000000</td>\n",
              "      <td>31.000000</td>\n",
              "      <td>13.000000</td>\n",
              "      <td>28.000000</td>\n",
              "      <td>12.000000</td>\n",
              "      <td>28.000000</td>\n",
              "      <td>1570.000000</td>\n",
              "      <td>1360.000000</td>\n",
              "      <td>500.000000</td>\n",
              "      <td>8191.000000</td>\n",
              "      <td>751.000000</td>\n",
              "      <td>200.000000</td>\n",
              "      <td>1.000000</td>\n",
              "      <td>4.000000</td>\n",
              "      <td>2.700000e+09</td>\n",
              "      <td>1.000000</td>\n",
              "      <td>17000.000000</td>\n",
              "      <td>86.000000</td>\n",
              "      <td>999.000000</td>\n",
              "      <td>2454.000000</td>\n",
              "      <td>1.000000</td>\n",
              "      <td>1.000000e+09</td>\n",
              "      <td>1.320000e+08</td>\n",
              "      <td>2.750000e+08</td>\n",
              "      <td>48000.000000</td>\n",
              "      <td>7.000000</td>\n",
              "      <td>2769.000000</td>\n",
              "      <td>1.000000</td>\n",
              "      <td>1.000000</td>\n",
              "      <td>1.000000</td>\n",
              "      <td>1.000000</td>\n",
              "    </tr>\n",
              "  </tbody>\n",
              "</table>\n",
              "</div>"
            ],
            "text/plain": [
              "            eventid          iyear  ...       INT_MISC        INT_ANY\n",
              "count  1.816910e+05  181691.000000  ...  181691.000000  181691.000000\n",
              "mean   2.002705e+11    2002.638997  ...       0.090010      -3.945952\n",
              "std    1.325957e+09      13.259430  ...       0.568457       4.691325\n",
              "min    1.970000e+11    1970.000000  ...      -9.000000      -9.000000\n",
              "25%    1.991021e+11    1991.000000  ...       0.000000      -9.000000\n",
              "50%    2.009022e+11    2009.000000  ...       0.000000       0.000000\n",
              "75%    2.014081e+11    2014.000000  ...       0.000000       0.000000\n",
              "max    2.017123e+11    2017.000000  ...       1.000000       1.000000\n",
              "\n",
              "[8 rows x 77 columns]"
            ]
          },
          "metadata": {
            "tags": []
          },
          "execution_count": 8
        }
      ]
    },
    {
      "cell_type": "code",
      "metadata": {
        "id": "s5dDA1IPfIWJ"
      },
      "source": [
        "td.rename(columns = {'iyear': 'Year', 'imonth': 'Month', 'iday': 'Day', 'country_txt': 'Country', \n",
        "          'provstate': 'State', 'region_txt': 'Region', 'attacktype1_txt': 'AttackType', 'target1': 'Target'\n",
        "          , 'nkill': 'Killed', 'nwound': 'Wounded', 'summary': 'Summary', 'gname': 'Group', 'targtype1_txt': 'Target_type', 'weaptype1_txt': 'Weapon_type'\n",
        "          , 'motive': 'Motive'}, inplace = True)"
      ],
      "execution_count": 25,
      "outputs": []
    },
    {
      "cell_type": "code",
      "metadata": {
        "colab": {
          "base_uri": "https://localhost:8080/",
          "height": 412
        },
        "id": "lW8mESpqgs1f",
        "outputId": "20330f3b-53fa-4e6e-e368-977bffc5f69d"
      },
      "source": [
        "td.head()"
      ],
      "execution_count": 26,
      "outputs": [
        {
          "output_type": "execute_result",
          "data": {
            "text/html": [
              "<div>\n",
              "<style scoped>\n",
              "    .dataframe tbody tr th:only-of-type {\n",
              "        vertical-align: middle;\n",
              "    }\n",
              "\n",
              "    .dataframe tbody tr th {\n",
              "        vertical-align: top;\n",
              "    }\n",
              "\n",
              "    .dataframe thead th {\n",
              "        text-align: right;\n",
              "    }\n",
              "</style>\n",
              "<table border=\"1\" class=\"dataframe\">\n",
              "  <thead>\n",
              "    <tr style=\"text-align: right;\">\n",
              "      <th></th>\n",
              "      <th>eventid</th>\n",
              "      <th>Year</th>\n",
              "      <th>Month</th>\n",
              "      <th>Day</th>\n",
              "      <th>approxdate</th>\n",
              "      <th>extended</th>\n",
              "      <th>resolution</th>\n",
              "      <th>country</th>\n",
              "      <th>Country</th>\n",
              "      <th>region</th>\n",
              "      <th>Region</th>\n",
              "      <th>State</th>\n",
              "      <th>city</th>\n",
              "      <th>latitude</th>\n",
              "      <th>longitude</th>\n",
              "      <th>specificity</th>\n",
              "      <th>vicinity</th>\n",
              "      <th>location</th>\n",
              "      <th>Summary</th>\n",
              "      <th>crit1</th>\n",
              "      <th>crit2</th>\n",
              "      <th>crit3</th>\n",
              "      <th>doubtterr</th>\n",
              "      <th>alternative</th>\n",
              "      <th>alternative_txt</th>\n",
              "      <th>multiple</th>\n",
              "      <th>success</th>\n",
              "      <th>suicide</th>\n",
              "      <th>attacktype1</th>\n",
              "      <th>Attacktype</th>\n",
              "      <th>attacktype2</th>\n",
              "      <th>attacktype2_txt</th>\n",
              "      <th>attacktype3</th>\n",
              "      <th>attacktype3_txt</th>\n",
              "      <th>targtype1</th>\n",
              "      <th>Target_type</th>\n",
              "      <th>targsubtype1</th>\n",
              "      <th>targsubtype1_txt</th>\n",
              "      <th>corp1</th>\n",
              "      <th>Target</th>\n",
              "      <th>...</th>\n",
              "      <th>weapsubtype4</th>\n",
              "      <th>weapsubtype4_txt</th>\n",
              "      <th>weapdetail</th>\n",
              "      <th>Killed</th>\n",
              "      <th>nkillus</th>\n",
              "      <th>nkillter</th>\n",
              "      <th>Wounded</th>\n",
              "      <th>nwoundus</th>\n",
              "      <th>nwoundte</th>\n",
              "      <th>property</th>\n",
              "      <th>propextent</th>\n",
              "      <th>propextent_txt</th>\n",
              "      <th>propvalue</th>\n",
              "      <th>propcomment</th>\n",
              "      <th>ishostkid</th>\n",
              "      <th>nhostkid</th>\n",
              "      <th>nhostkidus</th>\n",
              "      <th>nhours</th>\n",
              "      <th>ndays</th>\n",
              "      <th>divert</th>\n",
              "      <th>kidhijcountry</th>\n",
              "      <th>ransom</th>\n",
              "      <th>ransomamt</th>\n",
              "      <th>ransomamtus</th>\n",
              "      <th>ransompaid</th>\n",
              "      <th>ransompaidus</th>\n",
              "      <th>ransomnote</th>\n",
              "      <th>hostkidoutcome</th>\n",
              "      <th>hostkidoutcome_txt</th>\n",
              "      <th>nreleased</th>\n",
              "      <th>addnotes</th>\n",
              "      <th>scite1</th>\n",
              "      <th>scite2</th>\n",
              "      <th>scite3</th>\n",
              "      <th>dbsource</th>\n",
              "      <th>INT_LOG</th>\n",
              "      <th>INT_IDEO</th>\n",
              "      <th>INT_MISC</th>\n",
              "      <th>INT_ANY</th>\n",
              "      <th>related</th>\n",
              "    </tr>\n",
              "  </thead>\n",
              "  <tbody>\n",
              "    <tr>\n",
              "      <th>0</th>\n",
              "      <td>197000000001</td>\n",
              "      <td>1970</td>\n",
              "      <td>7</td>\n",
              "      <td>2</td>\n",
              "      <td>NaN</td>\n",
              "      <td>0</td>\n",
              "      <td>NaN</td>\n",
              "      <td>58</td>\n",
              "      <td>Dominican Republic</td>\n",
              "      <td>2</td>\n",
              "      <td>Central America &amp; Caribbean</td>\n",
              "      <td>NaN</td>\n",
              "      <td>Santo Domingo</td>\n",
              "      <td>18.456792</td>\n",
              "      <td>-69.951164</td>\n",
              "      <td>1.0</td>\n",
              "      <td>0</td>\n",
              "      <td>NaN</td>\n",
              "      <td>NaN</td>\n",
              "      <td>1</td>\n",
              "      <td>1</td>\n",
              "      <td>1</td>\n",
              "      <td>0.0</td>\n",
              "      <td>NaN</td>\n",
              "      <td>NaN</td>\n",
              "      <td>0.0</td>\n",
              "      <td>1</td>\n",
              "      <td>0</td>\n",
              "      <td>1</td>\n",
              "      <td>Assassination</td>\n",
              "      <td>NaN</td>\n",
              "      <td>NaN</td>\n",
              "      <td>NaN</td>\n",
              "      <td>NaN</td>\n",
              "      <td>14</td>\n",
              "      <td>Private Citizens &amp; Property</td>\n",
              "      <td>68.0</td>\n",
              "      <td>Named Civilian</td>\n",
              "      <td>NaN</td>\n",
              "      <td>Julio Guzman</td>\n",
              "      <td>...</td>\n",
              "      <td>NaN</td>\n",
              "      <td>NaN</td>\n",
              "      <td>NaN</td>\n",
              "      <td>1.0</td>\n",
              "      <td>NaN</td>\n",
              "      <td>NaN</td>\n",
              "      <td>0.0</td>\n",
              "      <td>NaN</td>\n",
              "      <td>NaN</td>\n",
              "      <td>0</td>\n",
              "      <td>NaN</td>\n",
              "      <td>NaN</td>\n",
              "      <td>NaN</td>\n",
              "      <td>NaN</td>\n",
              "      <td>0.0</td>\n",
              "      <td>NaN</td>\n",
              "      <td>NaN</td>\n",
              "      <td>NaN</td>\n",
              "      <td>NaN</td>\n",
              "      <td>NaN</td>\n",
              "      <td>NaN</td>\n",
              "      <td>0.0</td>\n",
              "      <td>NaN</td>\n",
              "      <td>NaN</td>\n",
              "      <td>NaN</td>\n",
              "      <td>NaN</td>\n",
              "      <td>NaN</td>\n",
              "      <td>NaN</td>\n",
              "      <td>NaN</td>\n",
              "      <td>NaN</td>\n",
              "      <td>NaN</td>\n",
              "      <td>NaN</td>\n",
              "      <td>NaN</td>\n",
              "      <td>NaN</td>\n",
              "      <td>PGIS</td>\n",
              "      <td>0</td>\n",
              "      <td>0</td>\n",
              "      <td>0</td>\n",
              "      <td>0</td>\n",
              "      <td>NaN</td>\n",
              "    </tr>\n",
              "    <tr>\n",
              "      <th>1</th>\n",
              "      <td>197000000002</td>\n",
              "      <td>1970</td>\n",
              "      <td>0</td>\n",
              "      <td>0</td>\n",
              "      <td>NaN</td>\n",
              "      <td>0</td>\n",
              "      <td>NaN</td>\n",
              "      <td>130</td>\n",
              "      <td>Mexico</td>\n",
              "      <td>1</td>\n",
              "      <td>North America</td>\n",
              "      <td>Federal</td>\n",
              "      <td>Mexico city</td>\n",
              "      <td>19.371887</td>\n",
              "      <td>-99.086624</td>\n",
              "      <td>1.0</td>\n",
              "      <td>0</td>\n",
              "      <td>NaN</td>\n",
              "      <td>NaN</td>\n",
              "      <td>1</td>\n",
              "      <td>1</td>\n",
              "      <td>1</td>\n",
              "      <td>0.0</td>\n",
              "      <td>NaN</td>\n",
              "      <td>NaN</td>\n",
              "      <td>0.0</td>\n",
              "      <td>1</td>\n",
              "      <td>0</td>\n",
              "      <td>6</td>\n",
              "      <td>Hostage Taking (Kidnapping)</td>\n",
              "      <td>NaN</td>\n",
              "      <td>NaN</td>\n",
              "      <td>NaN</td>\n",
              "      <td>NaN</td>\n",
              "      <td>7</td>\n",
              "      <td>Government (Diplomatic)</td>\n",
              "      <td>45.0</td>\n",
              "      <td>Diplomatic Personnel (outside of embassy, cons...</td>\n",
              "      <td>Belgian Ambassador Daughter</td>\n",
              "      <td>Nadine Chaval, daughter</td>\n",
              "      <td>...</td>\n",
              "      <td>NaN</td>\n",
              "      <td>NaN</td>\n",
              "      <td>NaN</td>\n",
              "      <td>0.0</td>\n",
              "      <td>NaN</td>\n",
              "      <td>NaN</td>\n",
              "      <td>0.0</td>\n",
              "      <td>NaN</td>\n",
              "      <td>NaN</td>\n",
              "      <td>0</td>\n",
              "      <td>NaN</td>\n",
              "      <td>NaN</td>\n",
              "      <td>NaN</td>\n",
              "      <td>NaN</td>\n",
              "      <td>1.0</td>\n",
              "      <td>1.0</td>\n",
              "      <td>0.0</td>\n",
              "      <td>NaN</td>\n",
              "      <td>NaN</td>\n",
              "      <td>NaN</td>\n",
              "      <td>Mexico</td>\n",
              "      <td>1.0</td>\n",
              "      <td>800000.0</td>\n",
              "      <td>NaN</td>\n",
              "      <td>NaN</td>\n",
              "      <td>NaN</td>\n",
              "      <td>NaN</td>\n",
              "      <td>NaN</td>\n",
              "      <td>NaN</td>\n",
              "      <td>NaN</td>\n",
              "      <td>NaN</td>\n",
              "      <td>NaN</td>\n",
              "      <td>NaN</td>\n",
              "      <td>NaN</td>\n",
              "      <td>PGIS</td>\n",
              "      <td>0</td>\n",
              "      <td>1</td>\n",
              "      <td>1</td>\n",
              "      <td>1</td>\n",
              "      <td>NaN</td>\n",
              "    </tr>\n",
              "    <tr>\n",
              "      <th>2</th>\n",
              "      <td>197001000001</td>\n",
              "      <td>1970</td>\n",
              "      <td>1</td>\n",
              "      <td>0</td>\n",
              "      <td>NaN</td>\n",
              "      <td>0</td>\n",
              "      <td>NaN</td>\n",
              "      <td>160</td>\n",
              "      <td>Philippines</td>\n",
              "      <td>5</td>\n",
              "      <td>Southeast Asia</td>\n",
              "      <td>Tarlac</td>\n",
              "      <td>Unknown</td>\n",
              "      <td>15.478598</td>\n",
              "      <td>120.599741</td>\n",
              "      <td>4.0</td>\n",
              "      <td>0</td>\n",
              "      <td>NaN</td>\n",
              "      <td>NaN</td>\n",
              "      <td>1</td>\n",
              "      <td>1</td>\n",
              "      <td>1</td>\n",
              "      <td>0.0</td>\n",
              "      <td>NaN</td>\n",
              "      <td>NaN</td>\n",
              "      <td>0.0</td>\n",
              "      <td>1</td>\n",
              "      <td>0</td>\n",
              "      <td>1</td>\n",
              "      <td>Assassination</td>\n",
              "      <td>NaN</td>\n",
              "      <td>NaN</td>\n",
              "      <td>NaN</td>\n",
              "      <td>NaN</td>\n",
              "      <td>10</td>\n",
              "      <td>Journalists &amp; Media</td>\n",
              "      <td>54.0</td>\n",
              "      <td>Radio Journalist/Staff/Facility</td>\n",
              "      <td>Voice of America</td>\n",
              "      <td>Employee</td>\n",
              "      <td>...</td>\n",
              "      <td>NaN</td>\n",
              "      <td>NaN</td>\n",
              "      <td>NaN</td>\n",
              "      <td>1.0</td>\n",
              "      <td>NaN</td>\n",
              "      <td>NaN</td>\n",
              "      <td>0.0</td>\n",
              "      <td>NaN</td>\n",
              "      <td>NaN</td>\n",
              "      <td>0</td>\n",
              "      <td>NaN</td>\n",
              "      <td>NaN</td>\n",
              "      <td>NaN</td>\n",
              "      <td>NaN</td>\n",
              "      <td>0.0</td>\n",
              "      <td>NaN</td>\n",
              "      <td>NaN</td>\n",
              "      <td>NaN</td>\n",
              "      <td>NaN</td>\n",
              "      <td>NaN</td>\n",
              "      <td>NaN</td>\n",
              "      <td>0.0</td>\n",
              "      <td>NaN</td>\n",
              "      <td>NaN</td>\n",
              "      <td>NaN</td>\n",
              "      <td>NaN</td>\n",
              "      <td>NaN</td>\n",
              "      <td>NaN</td>\n",
              "      <td>NaN</td>\n",
              "      <td>NaN</td>\n",
              "      <td>NaN</td>\n",
              "      <td>NaN</td>\n",
              "      <td>NaN</td>\n",
              "      <td>NaN</td>\n",
              "      <td>PGIS</td>\n",
              "      <td>-9</td>\n",
              "      <td>-9</td>\n",
              "      <td>1</td>\n",
              "      <td>1</td>\n",
              "      <td>NaN</td>\n",
              "    </tr>\n",
              "    <tr>\n",
              "      <th>3</th>\n",
              "      <td>197001000002</td>\n",
              "      <td>1970</td>\n",
              "      <td>1</td>\n",
              "      <td>0</td>\n",
              "      <td>NaN</td>\n",
              "      <td>0</td>\n",
              "      <td>NaN</td>\n",
              "      <td>78</td>\n",
              "      <td>Greece</td>\n",
              "      <td>8</td>\n",
              "      <td>Western Europe</td>\n",
              "      <td>Attica</td>\n",
              "      <td>Athens</td>\n",
              "      <td>37.997490</td>\n",
              "      <td>23.762728</td>\n",
              "      <td>1.0</td>\n",
              "      <td>0</td>\n",
              "      <td>NaN</td>\n",
              "      <td>NaN</td>\n",
              "      <td>1</td>\n",
              "      <td>1</td>\n",
              "      <td>1</td>\n",
              "      <td>0.0</td>\n",
              "      <td>NaN</td>\n",
              "      <td>NaN</td>\n",
              "      <td>0.0</td>\n",
              "      <td>1</td>\n",
              "      <td>0</td>\n",
              "      <td>3</td>\n",
              "      <td>Bombing/Explosion</td>\n",
              "      <td>NaN</td>\n",
              "      <td>NaN</td>\n",
              "      <td>NaN</td>\n",
              "      <td>NaN</td>\n",
              "      <td>7</td>\n",
              "      <td>Government (Diplomatic)</td>\n",
              "      <td>46.0</td>\n",
              "      <td>Embassy/Consulate</td>\n",
              "      <td>NaN</td>\n",
              "      <td>U.S. Embassy</td>\n",
              "      <td>...</td>\n",
              "      <td>NaN</td>\n",
              "      <td>NaN</td>\n",
              "      <td>Explosive</td>\n",
              "      <td>NaN</td>\n",
              "      <td>NaN</td>\n",
              "      <td>NaN</td>\n",
              "      <td>NaN</td>\n",
              "      <td>NaN</td>\n",
              "      <td>NaN</td>\n",
              "      <td>1</td>\n",
              "      <td>NaN</td>\n",
              "      <td>NaN</td>\n",
              "      <td>NaN</td>\n",
              "      <td>NaN</td>\n",
              "      <td>0.0</td>\n",
              "      <td>NaN</td>\n",
              "      <td>NaN</td>\n",
              "      <td>NaN</td>\n",
              "      <td>NaN</td>\n",
              "      <td>NaN</td>\n",
              "      <td>NaN</td>\n",
              "      <td>0.0</td>\n",
              "      <td>NaN</td>\n",
              "      <td>NaN</td>\n",
              "      <td>NaN</td>\n",
              "      <td>NaN</td>\n",
              "      <td>NaN</td>\n",
              "      <td>NaN</td>\n",
              "      <td>NaN</td>\n",
              "      <td>NaN</td>\n",
              "      <td>NaN</td>\n",
              "      <td>NaN</td>\n",
              "      <td>NaN</td>\n",
              "      <td>NaN</td>\n",
              "      <td>PGIS</td>\n",
              "      <td>-9</td>\n",
              "      <td>-9</td>\n",
              "      <td>1</td>\n",
              "      <td>1</td>\n",
              "      <td>NaN</td>\n",
              "    </tr>\n",
              "    <tr>\n",
              "      <th>4</th>\n",
              "      <td>197001000003</td>\n",
              "      <td>1970</td>\n",
              "      <td>1</td>\n",
              "      <td>0</td>\n",
              "      <td>NaN</td>\n",
              "      <td>0</td>\n",
              "      <td>NaN</td>\n",
              "      <td>101</td>\n",
              "      <td>Japan</td>\n",
              "      <td>4</td>\n",
              "      <td>East Asia</td>\n",
              "      <td>Fukouka</td>\n",
              "      <td>Fukouka</td>\n",
              "      <td>33.580412</td>\n",
              "      <td>130.396361</td>\n",
              "      <td>1.0</td>\n",
              "      <td>0</td>\n",
              "      <td>NaN</td>\n",
              "      <td>NaN</td>\n",
              "      <td>1</td>\n",
              "      <td>1</td>\n",
              "      <td>1</td>\n",
              "      <td>-9.0</td>\n",
              "      <td>NaN</td>\n",
              "      <td>NaN</td>\n",
              "      <td>0.0</td>\n",
              "      <td>1</td>\n",
              "      <td>0</td>\n",
              "      <td>7</td>\n",
              "      <td>Facility/Infrastructure Attack</td>\n",
              "      <td>NaN</td>\n",
              "      <td>NaN</td>\n",
              "      <td>NaN</td>\n",
              "      <td>NaN</td>\n",
              "      <td>7</td>\n",
              "      <td>Government (Diplomatic)</td>\n",
              "      <td>46.0</td>\n",
              "      <td>Embassy/Consulate</td>\n",
              "      <td>NaN</td>\n",
              "      <td>U.S. Consulate</td>\n",
              "      <td>...</td>\n",
              "      <td>NaN</td>\n",
              "      <td>NaN</td>\n",
              "      <td>Incendiary</td>\n",
              "      <td>NaN</td>\n",
              "      <td>NaN</td>\n",
              "      <td>NaN</td>\n",
              "      <td>NaN</td>\n",
              "      <td>NaN</td>\n",
              "      <td>NaN</td>\n",
              "      <td>1</td>\n",
              "      <td>NaN</td>\n",
              "      <td>NaN</td>\n",
              "      <td>NaN</td>\n",
              "      <td>NaN</td>\n",
              "      <td>0.0</td>\n",
              "      <td>NaN</td>\n",
              "      <td>NaN</td>\n",
              "      <td>NaN</td>\n",
              "      <td>NaN</td>\n",
              "      <td>NaN</td>\n",
              "      <td>NaN</td>\n",
              "      <td>0.0</td>\n",
              "      <td>NaN</td>\n",
              "      <td>NaN</td>\n",
              "      <td>NaN</td>\n",
              "      <td>NaN</td>\n",
              "      <td>NaN</td>\n",
              "      <td>NaN</td>\n",
              "      <td>NaN</td>\n",
              "      <td>NaN</td>\n",
              "      <td>NaN</td>\n",
              "      <td>NaN</td>\n",
              "      <td>NaN</td>\n",
              "      <td>NaN</td>\n",
              "      <td>PGIS</td>\n",
              "      <td>-9</td>\n",
              "      <td>-9</td>\n",
              "      <td>1</td>\n",
              "      <td>1</td>\n",
              "      <td>NaN</td>\n",
              "    </tr>\n",
              "  </tbody>\n",
              "</table>\n",
              "<p>5 rows × 135 columns</p>\n",
              "</div>"
            ],
            "text/plain": [
              "        eventid  Year  Month  Day  ... INT_IDEO  INT_MISC INT_ANY  related\n",
              "0  197000000001  1970      7    2  ...        0         0       0      NaN\n",
              "1  197000000002  1970      0    0  ...        1         1       1      NaN\n",
              "2  197001000001  1970      1    0  ...       -9         1       1      NaN\n",
              "3  197001000002  1970      1    0  ...       -9         1       1      NaN\n",
              "4  197001000003  1970      1    0  ...       -9         1       1      NaN\n",
              "\n",
              "[5 rows x 135 columns]"
            ]
          },
          "metadata": {
            "tags": []
          },
          "execution_count": 26
        }
      ]
    },
    {
      "cell_type": "markdown",
      "metadata": {
        "id": "fsZ6ohfmg-sq"
      },
      "source": [
        "\n",
        "\n",
        "*   We can observe that there are around 135 columns in our data set.\n",
        "*   We are going to try and find the hot zones so as to reduce the number of columns.\n",
        "*   We are going to create a new veriable and select a new set of columns instead of overwriting the existing ones.\n",
        "\n",
        "\n",
        "\n",
        "\n"
      ]
    },
    {
      "cell_type": "code",
      "metadata": {
        "colab": {
          "base_uri": "https://localhost:8080/",
          "height": 382
        },
        "id": "lSR_afGHpRzp",
        "outputId": "87326a42-6132-4c2e-a988-637ee9a968a8"
      },
      "source": [
        "trr=td[['Year','Month','Day','Country','State','Region','city','latitude','longitude','Attacktype','Killed',\n",
        "               'Wounded','Target','Summary','Group','Target_type','Weapon_type','Motive']]\n",
        "trr.head()"
      ],
      "execution_count": 28,
      "outputs": [
        {
          "output_type": "execute_result",
          "data": {
            "text/html": [
              "<div>\n",
              "<style scoped>\n",
              "    .dataframe tbody tr th:only-of-type {\n",
              "        vertical-align: middle;\n",
              "    }\n",
              "\n",
              "    .dataframe tbody tr th {\n",
              "        vertical-align: top;\n",
              "    }\n",
              "\n",
              "    .dataframe thead th {\n",
              "        text-align: right;\n",
              "    }\n",
              "</style>\n",
              "<table border=\"1\" class=\"dataframe\">\n",
              "  <thead>\n",
              "    <tr style=\"text-align: right;\">\n",
              "      <th></th>\n",
              "      <th>Year</th>\n",
              "      <th>Month</th>\n",
              "      <th>Day</th>\n",
              "      <th>Country</th>\n",
              "      <th>State</th>\n",
              "      <th>Region</th>\n",
              "      <th>city</th>\n",
              "      <th>latitude</th>\n",
              "      <th>longitude</th>\n",
              "      <th>Attacktype</th>\n",
              "      <th>Killed</th>\n",
              "      <th>Wounded</th>\n",
              "      <th>Target</th>\n",
              "      <th>Summary</th>\n",
              "      <th>Group</th>\n",
              "      <th>Target_type</th>\n",
              "      <th>Weapon_type</th>\n",
              "      <th>Motive</th>\n",
              "    </tr>\n",
              "  </thead>\n",
              "  <tbody>\n",
              "    <tr>\n",
              "      <th>0</th>\n",
              "      <td>1970</td>\n",
              "      <td>7</td>\n",
              "      <td>2</td>\n",
              "      <td>Dominican Republic</td>\n",
              "      <td>NaN</td>\n",
              "      <td>Central America &amp; Caribbean</td>\n",
              "      <td>Santo Domingo</td>\n",
              "      <td>18.456792</td>\n",
              "      <td>-69.951164</td>\n",
              "      <td>Assassination</td>\n",
              "      <td>1.0</td>\n",
              "      <td>0.0</td>\n",
              "      <td>Julio Guzman</td>\n",
              "      <td>NaN</td>\n",
              "      <td>MANO-D</td>\n",
              "      <td>Private Citizens &amp; Property</td>\n",
              "      <td>Unknown</td>\n",
              "      <td>NaN</td>\n",
              "    </tr>\n",
              "    <tr>\n",
              "      <th>1</th>\n",
              "      <td>1970</td>\n",
              "      <td>0</td>\n",
              "      <td>0</td>\n",
              "      <td>Mexico</td>\n",
              "      <td>Federal</td>\n",
              "      <td>North America</td>\n",
              "      <td>Mexico city</td>\n",
              "      <td>19.371887</td>\n",
              "      <td>-99.086624</td>\n",
              "      <td>Hostage Taking (Kidnapping)</td>\n",
              "      <td>0.0</td>\n",
              "      <td>0.0</td>\n",
              "      <td>Nadine Chaval, daughter</td>\n",
              "      <td>NaN</td>\n",
              "      <td>23rd of September Communist League</td>\n",
              "      <td>Government (Diplomatic)</td>\n",
              "      <td>Unknown</td>\n",
              "      <td>NaN</td>\n",
              "    </tr>\n",
              "    <tr>\n",
              "      <th>2</th>\n",
              "      <td>1970</td>\n",
              "      <td>1</td>\n",
              "      <td>0</td>\n",
              "      <td>Philippines</td>\n",
              "      <td>Tarlac</td>\n",
              "      <td>Southeast Asia</td>\n",
              "      <td>Unknown</td>\n",
              "      <td>15.478598</td>\n",
              "      <td>120.599741</td>\n",
              "      <td>Assassination</td>\n",
              "      <td>1.0</td>\n",
              "      <td>0.0</td>\n",
              "      <td>Employee</td>\n",
              "      <td>NaN</td>\n",
              "      <td>Unknown</td>\n",
              "      <td>Journalists &amp; Media</td>\n",
              "      <td>Unknown</td>\n",
              "      <td>NaN</td>\n",
              "    </tr>\n",
              "    <tr>\n",
              "      <th>3</th>\n",
              "      <td>1970</td>\n",
              "      <td>1</td>\n",
              "      <td>0</td>\n",
              "      <td>Greece</td>\n",
              "      <td>Attica</td>\n",
              "      <td>Western Europe</td>\n",
              "      <td>Athens</td>\n",
              "      <td>37.997490</td>\n",
              "      <td>23.762728</td>\n",
              "      <td>Bombing/Explosion</td>\n",
              "      <td>NaN</td>\n",
              "      <td>NaN</td>\n",
              "      <td>U.S. Embassy</td>\n",
              "      <td>NaN</td>\n",
              "      <td>Unknown</td>\n",
              "      <td>Government (Diplomatic)</td>\n",
              "      <td>Explosives</td>\n",
              "      <td>NaN</td>\n",
              "    </tr>\n",
              "    <tr>\n",
              "      <th>4</th>\n",
              "      <td>1970</td>\n",
              "      <td>1</td>\n",
              "      <td>0</td>\n",
              "      <td>Japan</td>\n",
              "      <td>Fukouka</td>\n",
              "      <td>East Asia</td>\n",
              "      <td>Fukouka</td>\n",
              "      <td>33.580412</td>\n",
              "      <td>130.396361</td>\n",
              "      <td>Facility/Infrastructure Attack</td>\n",
              "      <td>NaN</td>\n",
              "      <td>NaN</td>\n",
              "      <td>U.S. Consulate</td>\n",
              "      <td>NaN</td>\n",
              "      <td>Unknown</td>\n",
              "      <td>Government (Diplomatic)</td>\n",
              "      <td>Incendiary</td>\n",
              "      <td>NaN</td>\n",
              "    </tr>\n",
              "  </tbody>\n",
              "</table>\n",
              "</div>"
            ],
            "text/plain": [
              "   Year  Month  Day  ...                  Target_type Weapon_type Motive\n",
              "0  1970      7    2  ...  Private Citizens & Property     Unknown    NaN\n",
              "1  1970      0    0  ...      Government (Diplomatic)     Unknown    NaN\n",
              "2  1970      1    0  ...          Journalists & Media     Unknown    NaN\n",
              "3  1970      1    0  ...      Government (Diplomatic)  Explosives    NaN\n",
              "4  1970      1    0  ...      Government (Diplomatic)  Incendiary    NaN\n",
              "\n",
              "[5 rows x 18 columns]"
            ]
          },
          "metadata": {
            "tags": []
          },
          "execution_count": 28
        }
      ]
    },
    {
      "cell_type": "code",
      "metadata": {
        "colab": {
          "base_uri": "https://localhost:8080/"
        },
        "id": "uBacKtOErBXd",
        "outputId": "99f2e3d9-c6a7-4a4a-b62d-605f73c9b087"
      },
      "source": [
        "trr.shape"
      ],
      "execution_count": 29,
      "outputs": [
        {
          "output_type": "execute_result",
          "data": {
            "text/plain": [
              "(181691, 18)"
            ]
          },
          "metadata": {
            "tags": []
          },
          "execution_count": 29
        }
      ]
    },
    {
      "cell_type": "code",
      "metadata": {
        "colab": {
          "base_uri": "https://localhost:8080/"
        },
        "id": "8Tb-w0yirX-G",
        "outputId": "1bd3293f-4e68-46ef-fb65-f1324078c753"
      },
      "source": [
        "trr.isnull().sum()"
      ],
      "execution_count": 31,
      "outputs": [
        {
          "output_type": "execute_result",
          "data": {
            "text/plain": [
              "Year                0\n",
              "Month               0\n",
              "Day                 0\n",
              "Country             0\n",
              "State             421\n",
              "Region              0\n",
              "city              434\n",
              "latitude         4556\n",
              "longitude        4557\n",
              "Attacktype          0\n",
              "Killed          10313\n",
              "Wounded         16311\n",
              "Target            636\n",
              "Summary         66129\n",
              "Group               0\n",
              "Target_type         0\n",
              "Weapon_type         0\n",
              "Motive         131130\n",
              "dtype: int64"
            ]
          },
          "metadata": {
            "tags": []
          },
          "execution_count": 31
        }
      ]
    },
    {
      "cell_type": "code",
      "metadata": {
        "colab": {
          "base_uri": "https://localhost:8080/"
        },
        "id": "lfMP3lr5rn8_",
        "outputId": "eec96a10-ce7b-42e4-9a74-10978177b2f9"
      },
      "source": [
        "trr.info()"
      ],
      "execution_count": 32,
      "outputs": [
        {
          "output_type": "stream",
          "text": [
            "<class 'pandas.core.frame.DataFrame'>\n",
            "RangeIndex: 181691 entries, 0 to 181690\n",
            "Data columns (total 18 columns):\n",
            " #   Column       Non-Null Count   Dtype  \n",
            "---  ------       --------------   -----  \n",
            " 0   Year         181691 non-null  int64  \n",
            " 1   Month        181691 non-null  int64  \n",
            " 2   Day          181691 non-null  int64  \n",
            " 3   Country      181691 non-null  object \n",
            " 4   State        181270 non-null  object \n",
            " 5   Region       181691 non-null  object \n",
            " 6   city         181257 non-null  object \n",
            " 7   latitude     177135 non-null  float64\n",
            " 8   longitude    177134 non-null  float64\n",
            " 9   Attacktype   181691 non-null  object \n",
            " 10  Killed       171378 non-null  float64\n",
            " 11  Wounded      165380 non-null  float64\n",
            " 12  Target       181055 non-null  object \n",
            " 13  Summary      115562 non-null  object \n",
            " 14  Group        181691 non-null  object \n",
            " 15  Target_type  181691 non-null  object \n",
            " 16  Weapon_type  181691 non-null  object \n",
            " 17  Motive       50561 non-null   object \n",
            "dtypes: float64(4), int64(3), object(11)\n",
            "memory usage: 25.0+ MB\n"
          ],
          "name": "stdout"
        }
      ]
    },
    {
      "cell_type": "markdown",
      "metadata": {
        "id": "5tUoItufr0LQ"
      },
      "source": [
        "\n",
        "\n",
        "* We need to check the presence of null values in our data set.\n",
        "* We will calculate their percentage for our reference before handling them.\n",
        "\n"
      ]
    },
    {
      "cell_type": "code",
      "metadata": {
        "colab": {
          "base_uri": "https://localhost:8080/"
        },
        "id": "8L35FoKrsIa_",
        "outputId": "7513c48a-cab5-4e88-80f3-e4d7d7681c34"
      },
      "source": [
        "count = 0\n",
        "for i in trr['Day']:\n",
        "    if (i==0):\n",
        "      count+=1\n",
        "    else:\n",
        "      count=count\n",
        "print(\"Number of days entered as 0: \",count)"
      ],
      "execution_count": 33,
      "outputs": [
        {
          "output_type": "stream",
          "text": [
            "Number of days entered as 0:  891\n"
          ],
          "name": "stdout"
        }
      ]
    },
    {
      "cell_type": "code",
      "metadata": {
        "colab": {
          "base_uri": "https://localhost:8080/"
        },
        "id": "_bM5XVpFsMfs",
        "outputId": "76813fdd-739c-4812-b737-6790127d0e9a"
      },
      "source": [
        "c=0\n",
        "for j in trr['Month']:\n",
        "    if (j==0):\n",
        "      c+=1\n",
        "    else:\n",
        "      c=c\n",
        "print(\"Number of months enterd as 0: \",c)"
      ],
      "execution_count": 34,
      "outputs": [
        {
          "output_type": "stream",
          "text": [
            "Number of months enterd as 0:  20\n"
          ],
          "name": "stdout"
        }
      ]
    },
    {
      "cell_type": "markdown",
      "metadata": {
        "id": "0IQry-vWsUsl"
      },
      "source": [
        "*We are assigning random dates and months who have their values as 0, so that we don't loose the information of other columns associated with that row.*"
      ]
    },
    {
      "cell_type": "code",
      "metadata": {
        "colab": {
          "base_uri": "https://localhost:8080/"
        },
        "id": "eS8Pr6w0sbUB",
        "outputId": "d2d534c9-6419-457f-dea5-056246620fe5"
      },
      "source": [
        "trr['Day']=trr['Day'].apply(lambda x: np.random.randint(1,32) if x == 0 else x)\n",
        "trr['Month']=trr['Month'].apply(lambda x: np.random.randint(1,13) if x == 9 else x)"
      ],
      "execution_count": 35,
      "outputs": [
        {
          "output_type": "stream",
          "text": [
            "/usr/local/lib/python3.7/dist-packages/ipykernel_launcher.py:1: SettingWithCopyWarning: \n",
            "A value is trying to be set on a copy of a slice from a DataFrame.\n",
            "Try using .loc[row_indexer,col_indexer] = value instead\n",
            "\n",
            "See the caveats in the documentation: https://pandas.pydata.org/pandas-docs/stable/user_guide/indexing.html#returning-a-view-versus-a-copy\n",
            "  \"\"\"Entry point for launching an IPython kernel.\n",
            "/usr/local/lib/python3.7/dist-packages/ipykernel_launcher.py:2: SettingWithCopyWarning: \n",
            "A value is trying to be set on a copy of a slice from a DataFrame.\n",
            "Try using .loc[row_indexer,col_indexer] = value instead\n",
            "\n",
            "See the caveats in the documentation: https://pandas.pydata.org/pandas-docs/stable/user_guide/indexing.html#returning-a-view-versus-a-copy\n",
            "  \n"
          ],
          "name": "stderr"
        }
      ]
    },
    {
      "cell_type": "code",
      "metadata": {
        "colab": {
          "base_uri": "https://localhost:8080/"
        },
        "id": "VQnwzOAVsdr3",
        "outputId": "318b1832-3c96-48f2-c372-4eb51704e47c"
      },
      "source": [
        "#Checking for days.\n",
        "count = 0\n",
        "for i in trr['Day']:\n",
        "    if (i == 0):\n",
        "      count+=1\n",
        "    else:\n",
        "      count=count\n",
        "print(\"Number of days entered as 0: \",count)"
      ],
      "execution_count": 36,
      "outputs": [
        {
          "output_type": "stream",
          "text": [
            "Number of days entered as 0:  0\n"
          ],
          "name": "stdout"
        }
      ]
    },
    {
      "cell_type": "code",
      "metadata": {
        "colab": {
          "base_uri": "https://localhost:8080/"
        },
        "id": "X4gOetdasrv8",
        "outputId": "5d4b7b35-4a61-4320-c83e-53e657443a41"
      },
      "source": [
        "#Count for months.\n",
        "c=0\n",
        "for j in trr['Month']:\n",
        "    if (j==0):\n",
        "      c+=1\n",
        "    else:\n",
        "      c=c\n",
        "print(\"Number of months enterd as 0: \",c)"
      ],
      "execution_count": 37,
      "outputs": [
        {
          "output_type": "stream",
          "text": [
            "Number of months enterd as 0:  20\n"
          ],
          "name": "stdout"
        }
      ]
    },
    {
      "cell_type": "markdown",
      "metadata": {
        "id": "onYbqatIsx2A"
      },
      "source": [
        "*Finding missing value percentage*"
      ]
    },
    {
      "cell_type": "code",
      "metadata": {
        "colab": {
          "base_uri": "https://localhost:8080/",
          "height": 614
        },
        "id": "FCTaxMPOs1_n",
        "outputId": "e7c405f4-53e6-41f2-c0e9-4ba7fcd30383"
      },
      "source": [
        "def null_val_(trr): \n",
        "    null_val = trr.isnull().sum()\n",
        "    null_val_p = 100 * trr.isnull().sum()/len(trr)\n",
        "    null_val_ = pd.concat([null_val, null_val_p], axis=1)\n",
        "    null_val_last = null_val_.rename(\n",
        "    columns = {0 : 'Null Values', 1 : 'Percentage '})\n",
        "    return null_val_last\n",
        "null_val_(trr)"
      ],
      "execution_count": 38,
      "outputs": [
        {
          "output_type": "execute_result",
          "data": {
            "text/html": [
              "<div>\n",
              "<style scoped>\n",
              "    .dataframe tbody tr th:only-of-type {\n",
              "        vertical-align: middle;\n",
              "    }\n",
              "\n",
              "    .dataframe tbody tr th {\n",
              "        vertical-align: top;\n",
              "    }\n",
              "\n",
              "    .dataframe thead th {\n",
              "        text-align: right;\n",
              "    }\n",
              "</style>\n",
              "<table border=\"1\" class=\"dataframe\">\n",
              "  <thead>\n",
              "    <tr style=\"text-align: right;\">\n",
              "      <th></th>\n",
              "      <th>Null Values</th>\n",
              "      <th>Percentage</th>\n",
              "    </tr>\n",
              "  </thead>\n",
              "  <tbody>\n",
              "    <tr>\n",
              "      <th>Year</th>\n",
              "      <td>0</td>\n",
              "      <td>0.000000</td>\n",
              "    </tr>\n",
              "    <tr>\n",
              "      <th>Month</th>\n",
              "      <td>0</td>\n",
              "      <td>0.000000</td>\n",
              "    </tr>\n",
              "    <tr>\n",
              "      <th>Day</th>\n",
              "      <td>0</td>\n",
              "      <td>0.000000</td>\n",
              "    </tr>\n",
              "    <tr>\n",
              "      <th>Country</th>\n",
              "      <td>0</td>\n",
              "      <td>0.000000</td>\n",
              "    </tr>\n",
              "    <tr>\n",
              "      <th>State</th>\n",
              "      <td>421</td>\n",
              "      <td>0.231712</td>\n",
              "    </tr>\n",
              "    <tr>\n",
              "      <th>Region</th>\n",
              "      <td>0</td>\n",
              "      <td>0.000000</td>\n",
              "    </tr>\n",
              "    <tr>\n",
              "      <th>city</th>\n",
              "      <td>434</td>\n",
              "      <td>0.238867</td>\n",
              "    </tr>\n",
              "    <tr>\n",
              "      <th>latitude</th>\n",
              "      <td>4556</td>\n",
              "      <td>2.507554</td>\n",
              "    </tr>\n",
              "    <tr>\n",
              "      <th>longitude</th>\n",
              "      <td>4557</td>\n",
              "      <td>2.508104</td>\n",
              "    </tr>\n",
              "    <tr>\n",
              "      <th>Attacktype</th>\n",
              "      <td>0</td>\n",
              "      <td>0.000000</td>\n",
              "    </tr>\n",
              "    <tr>\n",
              "      <th>Killed</th>\n",
              "      <td>10313</td>\n",
              "      <td>5.676120</td>\n",
              "    </tr>\n",
              "    <tr>\n",
              "      <th>Wounded</th>\n",
              "      <td>16311</td>\n",
              "      <td>8.977330</td>\n",
              "    </tr>\n",
              "    <tr>\n",
              "      <th>Target</th>\n",
              "      <td>636</td>\n",
              "      <td>0.350045</td>\n",
              "    </tr>\n",
              "    <tr>\n",
              "      <th>Summary</th>\n",
              "      <td>66129</td>\n",
              "      <td>36.396409</td>\n",
              "    </tr>\n",
              "    <tr>\n",
              "      <th>Group</th>\n",
              "      <td>0</td>\n",
              "      <td>0.000000</td>\n",
              "    </tr>\n",
              "    <tr>\n",
              "      <th>Target_type</th>\n",
              "      <td>0</td>\n",
              "      <td>0.000000</td>\n",
              "    </tr>\n",
              "    <tr>\n",
              "      <th>Weapon_type</th>\n",
              "      <td>0</td>\n",
              "      <td>0.000000</td>\n",
              "    </tr>\n",
              "    <tr>\n",
              "      <th>Motive</th>\n",
              "      <td>131130</td>\n",
              "      <td>72.171984</td>\n",
              "    </tr>\n",
              "  </tbody>\n",
              "</table>\n",
              "</div>"
            ],
            "text/plain": [
              "             Null Values  Percentage \n",
              "Year                   0     0.000000\n",
              "Month                  0     0.000000\n",
              "Day                    0     0.000000\n",
              "Country                0     0.000000\n",
              "State                421     0.231712\n",
              "Region                 0     0.000000\n",
              "city                 434     0.238867\n",
              "latitude            4556     2.507554\n",
              "longitude           4557     2.508104\n",
              "Attacktype             0     0.000000\n",
              "Killed             10313     5.676120\n",
              "Wounded            16311     8.977330\n",
              "Target               636     0.350045\n",
              "Summary            66129    36.396409\n",
              "Group                  0     0.000000\n",
              "Target_type            0     0.000000\n",
              "Weapon_type            0     0.000000\n",
              "Motive            131130    72.171984"
            ]
          },
          "metadata": {
            "tags": []
          },
          "execution_count": 38
        }
      ]
    },
    {
      "cell_type": "code",
      "metadata": {
        "colab": {
          "base_uri": "https://localhost:8080/"
        },
        "id": "nG14mWPTs4AZ",
        "outputId": "c28f6438-1446-4540-d270-3f6ef53081e2"
      },
      "source": [
        "trr['Motive'].fillna(value='NA', inplace=True) \n",
        "trr['Summary'].fillna(value='NA', inplace=True)\n",
        "trr['city'].fillna(value='NA', inplace=True)\n",
        "trr['Target'].fillna(value='NA', inplace=True)\n",
        "trr[\"Killed\"].fillna(trr[\"Killed\"].mean(), inplace=True)\n",
        "trr[\"Wounded\"].fillna(trr[\"Wounded\"].mean(), inplace=True)\n",
        "trr[\"latitude\"].fillna(trr[\"latitude\"].mean(), inplace=True)\n",
        "trr[\"longitude\"].fillna(trr[\"longitude\"].mean(), inplace=True)\n",
        "trr['State'].fillna(value='NA', inplace=True)"
      ],
      "execution_count": 39,
      "outputs": [
        {
          "output_type": "stream",
          "text": [
            "/usr/local/lib/python3.7/dist-packages/pandas/core/series.py:4536: SettingWithCopyWarning: \n",
            "A value is trying to be set on a copy of a slice from a DataFrame\n",
            "\n",
            "See the caveats in the documentation: https://pandas.pydata.org/pandas-docs/stable/user_guide/indexing.html#returning-a-view-versus-a-copy\n",
            "  downcast=downcast,\n"
          ],
          "name": "stderr"
        }
      ]
    },
    {
      "cell_type": "markdown",
      "metadata": {
        "id": "YjzFg4XUtJfk"
      },
      "source": [
        "\n",
        "\n",
        "\n",
        ">*We saw that some columns had high missing values and we had to handle them.*\n",
        "\n",
        ">*All the columns with 'object' data type have been replaced by NA so that we don't loose information related to them.*\n",
        "\n",
        ">*Similarly we have replaced all columns having float datatype with their respective mean.*\n",
        "\n",
        "\n",
        "\n"
      ]
    },
    {
      "cell_type": "code",
      "metadata": {
        "colab": {
          "base_uri": "https://localhost:8080/"
        },
        "id": "0QrFSroZtYRc",
        "outputId": "73dbdc32-b7ff-48b3-9c56-8658bb7ff60f"
      },
      "source": [
        "trr.isnull().sum()"
      ],
      "execution_count": 40,
      "outputs": [
        {
          "output_type": "execute_result",
          "data": {
            "text/plain": [
              "Year           0\n",
              "Month          0\n",
              "Day            0\n",
              "Country        0\n",
              "State          0\n",
              "Region         0\n",
              "city           0\n",
              "latitude       0\n",
              "longitude      0\n",
              "Attacktype     0\n",
              "Killed         0\n",
              "Wounded        0\n",
              "Target         0\n",
              "Summary        0\n",
              "Group          0\n",
              "Target_type    0\n",
              "Weapon_type    0\n",
              "Motive         0\n",
              "dtype: int64"
            ]
          },
          "metadata": {
            "tags": []
          },
          "execution_count": 40
        }
      ]
    },
    {
      "cell_type": "markdown",
      "metadata": {
        "id": "OkYbJWXqti8b"
      },
      "source": [
        "*We have handled all of our missing values successfully!*\n",
        "\n",
        "**Boxplots**"
      ]
    },
    {
      "cell_type": "code",
      "metadata": {
        "colab": {
          "base_uri": "https://localhost:8080/",
          "height": 1000
        },
        "id": "770Vr01HtoyF",
        "outputId": "9076f5ef-cdc2-49d0-dad9-13d0cfa74035"
      },
      "source": [
        "title_style = {'family': 'Times New Roman', 'color': 'Tomato', 'size': 20 }\n",
        "dict = {'Attacktype':1,'Target_type':2,  'Region':3, 'Weapon_type':4 }\n",
        "plt.figure(figsize=(10,40))\n",
        "\n",
        "for value, i in dict.items():\n",
        "    plt.subplot(4,1,i)\n",
        "    sns.boxplot(x=\"Year\", y=value, data=trr, whis=[0, 100], palette=\"magma\")\n",
        "    plt.title(value , fontdict = title_style)\n",
        "plt.show()"
      ],
      "execution_count": 42,
      "outputs": [
        {
          "output_type": "stream",
          "text": [
            "findfont: Font family ['Times New Roman'] not found. Falling back to DejaVu Sans.\n"
          ],
          "name": "stderr"
        },
        {
          "output_type": "display_data",
          "data": {
            "image/png": "[encoded data removed]",
            "text/plain": [
              "<Figure size 720x2880 with 4 Axes>"
            ]
          },
          "metadata": {
            "tags": [],
            "needs_background": "light"
          }
        }
      ]
    },
    {
      "cell_type": "code",
      "metadata": {
        "colab": {
          "base_uri": "https://localhost:8080/",
          "height": 451
        },
        "id": "gYXC98SCtxY_",
        "outputId": "dd2b61d3-aecb-47b5-f32c-f9cdb2789387"
      },
      "source": [
        "plt.figure(figsize = (10,7))\n",
        "sns.heatmap(trr.corr(), cmap=\"YlGnBu\", annot=True, xticklabels='auto', yticklabels='auto', linewidth=1 )"
      ],
      "execution_count": 43,
      "outputs": [
        {
          "output_type": "execute_result",
          "data": {
            "text/plain": [
              "<matplotlib.axes._subplots.AxesSubplot at 0x7fb7c1d55390>"
            ]
          },
          "metadata": {
            "tags": []
          },
          "execution_count": 43
        },
        {
          "output_type": "display_data",
          "data": {
            "image/png": "[encoded data removed]",
            "text/plain": [
              "<Figure size 720x504 with 2 Axes>"
            ]
          },
          "metadata": {
            "tags": [],
            "needs_background": "light"
          }
        }
      ]
    },
    {
      "cell_type": "markdown",
      "metadata": {
        "id": "xfGl_ivkuSGm"
      },
      "source": [
        "*Terrorist activities each year*"
      ]
    },
    {
      "cell_type": "code",
      "metadata": {
        "colab": {
          "base_uri": "https://localhost:8080/",
          "height": 476
        },
        "id": "XUmVz4h7uVR9",
        "outputId": "c51e36d3-ef0c-46f0-d250-febf9949f5cc"
      },
      "source": [
        "plt.subplots(figsize=(15,6))\n",
        "sns.countplot('Year',data=trr,palette=\"viridis\")\n",
        "plt.xticks(rotation=45)\n",
        "plt.title('Number Of Terrorist Activities Each Year')\n",
        "plt.show()"
      ],
      "execution_count": 44,
      "outputs": [
        {
          "output_type": "stream",
          "text": [
            "/usr/local/lib/python3.7/dist-packages/seaborn/_decorators.py:43: FutureWarning: Pass the following variable as a keyword arg: x. From version 0.12, the only valid positional argument will be `data`, and passing other arguments without an explicit keyword will result in an error or misinterpretation.\n",
            "  FutureWarning\n"
          ],
          "name": "stderr"
        },
        {
          "output_type": "display_data",
          "data": {
            "image/png": "[encoded data removed]",
            "text/plain": [
              "<Figure size 1080x432 with 1 Axes>"
            ]
          },
          "metadata": {
            "tags": [],
            "needs_background": "light"
          }
        }
      ]
    },
    {
      "cell_type": "markdown",
      "metadata": {
        "id": "oX9FFcywurrc"
      },
      "source": [
        "\n",
        "\n",
        ">There has been a gradual increase in Terror Activities since 2004.\n",
        "\n",
        ">Highest number of terror activities occurred in the year 2014.\n",
        "\n",
        ">After 2014 the terror activities started to decrease.\n",
        "\n",
        "**Terrorist activities in each region**"
      ]
    },
    {
      "cell_type": "code",
      "metadata": {
        "colab": {
          "base_uri": "https://localhost:8080/",
          "height": 388
        },
        "id": "IUBAIIJku5Ug",
        "outputId": "27f69064-3a3f-4ae6-c307-d52786a293d5"
      },
      "source": [
        "pd.crosstab(trr.Year, trr.Region).plot(kind='area',figsize=(15,6))\n",
        "plt.ylabel('Number of Attacks')\n",
        "plt.show()"
      ],
      "execution_count": 45,
      "outputs": [
        {
          "output_type": "display_data",
          "data": {
            "image/png": "[encoded data removed]",
            "text/plain": [
              "<Figure size 1080x432 with 1 Axes>"
            ]
          },
          "metadata": {
            "tags": [],
            "needs_background": "light"
          }
        }
      ]
    },
    {
      "cell_type": "code",
      "metadata": {
        "id": "3-1AbPPBvSdB"
      },
      "source": [
        ""
      ],
      "execution_count": null,
      "outputs": []
    },
    {
      "cell_type": "markdown",
      "metadata": {
        "id": "VN6W09nPvk0T"
      },
      "source": [
        "\n",
        "\n",
        ">Maximum Attacks have been in Central America, followed by Australasia in the year 2010.\n",
        "\n",
        ">There have been very less terror casualties in: East Asia, North America.\n",
        "\n",
        ">In East Asia the number of attack gradually reduced to 0 after the year 1990.\n",
        "\n"
      ]
    },
    {
      "cell_type": "code",
      "metadata": {
        "colab": {
          "base_uri": "https://localhost:8080/",
          "height": 691
        },
        "id": "P1kYFsCovqUi",
        "outputId": "d9b7bd44-b029-446d-8180-3f2abc9af696"
      },
      "source": [
        "import plotly.offline as py\n",
        "py.init_notebook_mode(connected=True)\n",
        "import plotly.graph_objs as go\n",
        "trr['casualities'] = trr['Killed'] + trr['Wounded']\n",
        "trr1 = trr.sort_values(by='casualities',ascending=False)[:50]\n",
        "heat=trr1.pivot_table(index='Country',columns='Year',values='casualities')\n",
        "heat.fillna(0,inplace=True)\n",
        "colorscale = [[0, '#edf8fb'], [.3, '#00BFFF'],  [.6, '#8856a7'],  [1, '#810f7c']]\n",
        "heatmap = go.Heatmap(z=heat.values, x=heat.columns, y=heat.index, colorscale=colorscale)\n",
        "data = [heatmap]\n",
        "layout = go.Layout(\n",
        "    title='Top 50 Worst Terror Attacks in History from 1982 to 2016')\n",
        "fig = go.Figure(data=data, layout=layout)\n",
        "py.iplot(fig, filename='heatmap',show_link=False)"
      ],
      "execution_count": 46,
      "outputs": [
        {
          "output_type": "display_data",
          "data": {
            "text/html": [
              "        <script type=\"text/javascript\">\n",
              "        window.PlotlyConfig = {MathJaxConfig: 'local'};\n",
              "        if (window.MathJax) {MathJax.Hub.Config({SVG: {font: \"STIX-Web\"}});}\n",
              "        if (typeof require !== 'undefined') {\n",
              "        require.undef(\"plotly\");\n",
              "        requirejs.config({\n",
              "            paths: {\n",
              "                'plotly': ['https://cdn.plot.ly/plotly-latest.min']\n",
              "            }\n",
              "        });\n",
              "        require(['plotly'], function(Plotly) {\n",
              "            window._Plotly = Plotly;\n",
              "        });\n",
              "        }\n",
              "        </script>\n",
              "        "
            ]
          },
          "metadata": {
            "tags": []
          }
        },
        {
          "output_type": "stream",
          "text": [
            "/usr/local/lib/python3.7/dist-packages/ipykernel_launcher.py:4: SettingWithCopyWarning:\n",
            "\n",
            "\n",
            "A value is trying to be set on a copy of a slice from a DataFrame.\n",
            "Try using .loc[row_indexer,col_indexer] = value instead\n",
            "\n",
            "See the caveats in the documentation: https://pandas.pydata.org/pandas-docs/stable/user_guide/indexing.html#returning-a-view-versus-a-copy\n",
            "\n"
          ],
          "name": "stderr"
        },
        {
          "output_type": "display_data",
          "data": {
            "text/html": [
              "<div>\n",
              "        \n",
              "        \n",
              "            <div id=\"449d8bc8-8961-4348-90f5-0f0040229e3a\" class=\"plotly-graph-div\" style=\"height:525px; width:100%;\"></div>\n",
              "            <script type=\"text/javascript\">\n",
              "                require([\"plotly\"], function(Plotly) {\n",
              "                    window.PLOTLYENV=window.PLOTLYENV || {};\n",
              "                    \n",
              "                if (document.getElementById(\"449d8bc8-8961-4348-90f5-0f0040229e3a\")) {\n",
              "                    Plotly.newPlot(\n",
              "                        '449d8bc8-8961-4348-90f5-0f0040229e3a',\n",
              "                        [{\"colorscale\": [[0, \"#edf8fb\"], [0.3, \"#00BFFF\"], [0.6, \"#8856a7\"], [1, \"#810f7c\"]], \"type\": \"heatmap\", \"x\": [1982, 1984, 1987, 1992, 1994, 1995, 1996, 1997, 1998, 2001, 2004, 2005, 2006, 2007, 2008, 2009, 2013, 2014, 2015, 2016, 2017], \"y\": [\"Afghanistan\", \"Algeria\", \"Chad\", \"Egypt\", \"Ethiopia\", \"France\", \"India\", \"Iran\", \"Iraq\", \"Japan\", \"Kenya\", \"Libya\", \"Mozambique\", \"Nepal\", \"Pakistan\", \"Russia\", \"Rwanda\", \"Somalia\", \"South Sudan\", \"Spain\", \"Sri Lanka\", \"Syria\", \"Tajikistan\", \"United States\"], \"z\": [[0.0, 0.0, 0.0, 0.0, 0.0, 0.0, 0.0, 0.0, 0.0, 0.0, 0.0, 0.0, 0.0, 0.0, 0.0, 0.0, 0.0, 0.0, 536.0, 0.0, 584.0], [0.0, 0.0, 0.0, 0.0, 0.0, 0.0, 0.0, 450.0, 0.0, 0.0, 0.0, 0.0, 0.0, 0.0, 0.0, 0.0, 0.0, 0.0, 0.0, 0.0, 0.0], [0.0, 0.0, 0.0, 0.0, 0.0, 0.0, 0.0, 0.0, 0.0, 0.0, 0.0, 0.0, 0.0, 0.0, 1161.0, 0.0, 0.0, 0.0, 0.0, 0.0, 0.0], [0.0, 0.0, 0.0, 0.0, 0.0, 0.0, 0.0, 0.0, 0.0, 0.0, 0.0, 0.0, 0.0, 0.0, 0.0, 0.0, 0.0, 0.0, 0.0, 0.0, 438.0], [0.0, 0.0, 0.0, 500.0, 0.0, 0.0, 0.0, 0.0, 0.0, 0.0, 0.0, 0.0, 0.0, 0.0, 0.0, 0.0, 0.0, 0.0, 0.0, 0.0, 0.0], [0.0, 0.0, 0.0, 0.0, 0.0, 0.0, 0.0, 0.0, 0.0, 0.0, 0.0, 0.0, 0.0, 0.0, 0.0, 0.0, 0.0, 0.0, 0.0, 520.0, 0.0], [0.0, 0.0, 0.0, 0.0, 0.0, 0.0, 0.0, 0.0, 0.0, 0.0, 0.0, 0.0, 1005.0, 0.0, 0.0, 0.0, 0.0, 0.0, 0.0, 0.0, 0.0], [760.0, 0.0, 0.0, 0.0, 0.0, 0.0, 0.0, 0.0, 0.0, 0.0, 0.0, 0.0, 0.0, 0.0, 0.0, 0.0, 0.0, 0.0, 0.0, 0.0, 0.0], [0.0, 0.0, 0.0, 0.0, 0.0, 0.0, 0.0, 0.0, 0.0, 0.0, 0.0, 702.0, 462.0, 833.3333333333334, 0.0, 509.0, 0.0, 1066.445112266699, 0.0, 911.6666666666666, 0.0], [0.0, 0.0, 0.0, 0.0, 507.0, 3092.0, 0.0, 0.0, 0.0, 0.0, 0.0, 0.0, 0.0, 0.0, 0.0, 0.0, 0.0, 0.0, 0.0, 0.0, 0.0], [0.0, 0.0, 0.0, 0.0, 0.0, 0.0, 0.0, 0.0, 4224.0, 0.0, 0.0, 0.0, 0.0, 0.0, 0.0, 0.0, 0.0, 0.0, 0.0, 0.0, 0.0], [0.0, 0.0, 0.0, 0.0, 0.0, 0.0, 0.0, 0.0, 0.0, 0.0, 0.0, 0.0, 0.0, 0.0, 0.0, 0.0, 442.0, 0.0, 0.0, 0.0, 0.0], [0.0, 0.0, 458.0, 0.0, 0.0, 0.0, 0.0, 0.0, 0.0, 0.0, 0.0, 0.0, 0.0, 0.0, 0.0, 0.0, 0.0, 0.0, 0.0, 0.0, 0.0], [0.0, 0.0, 0.0, 0.0, 0.0, 0.0, 0.0, 0.0, 0.0, 0.0, 734.0, 0.0, 0.0, 0.0, 0.0, 0.0, 0.0, 0.0, 0.0, 0.0, 0.0], [0.0, 0.0, 0.0, 0.0, 0.0, 0.0, 0.0, 0.0, 0.0, 0.0, 0.0, 0.0, 0.0, 0.0, 0.0, 0.0, 0.0, 0.0, 0.0, 0.0, 442.0], [0.0, 0.0, 0.0, 0.0, 0.0, 0.0, 0.0, 0.0, 0.0, 0.0, 1071.0, 0.0, 0.0, 0.0, 0.0, 0.0, 0.0, 0.0, 0.0, 0.0, 0.0], [0.0, 0.0, 0.0, 0.0, 1180.0, 0.0, 0.0, 498.0, 0.0, 0.0, 0.0, 0.0, 0.0, 0.0, 0.0, 0.0, 0.0, 0.0, 0.0, 0.0, 0.0], [0.0, 0.0, 0.0, 0.0, 0.0, 0.0, 0.0, 0.0, 0.0, 0.0, 0.0, 0.0, 0.0, 0.0, 0.0, 0.0, 0.0, 0.0, 0.0, 0.0, 904.0], [0.0, 0.0, 0.0, 0.0, 0.0, 0.0, 0.0, 0.0, 0.0, 0.0, 0.0, 0.0, 0.0, 0.0, 0.0, 0.0, 0.0, 687.0, 0.0, 0.0, 0.0], [0.0, 0.0, 0.0, 0.0, 0.0, 0.0, 0.0, 0.0, 0.0, 0.0, 497.75, 0.0, 0.0, 0.0, 0.0, 0.0, 0.0, 0.0, 0.0, 0.0, 0.0], [0.0, 0.0, 0.0, 0.0, 0.0, 0.0, 907.0, 0.0, 0.0, 0.0, 0.0, 0.0, 0.0, 0.0, 0.0, 0.0, 0.0, 0.0, 0.0, 0.0, 0.0], [0.0, 0.0, 0.0, 0.0, 0.0, 0.0, 0.0, 0.0, 0.0, 0.0, 0.0, 0.0, 0.0, 0.0, 0.0, 0.0, 0.0, 520.1676684000483, 0.0, 436.1676684000484, 0.0], [0.0, 0.0, 0.0, 800.0, 0.0, 0.0, 0.0, 0.0, 0.0, 0.0, 0.0, 0.0, 0.0, 0.0, 0.0, 0.0, 0.0, 0.0, 0.0, 0.0, 0.0], [0.0, 751.0, 0.0, 0.0, 0.0, 818.0, 0.0, 0.0, 0.0, 9574.0, 0.0, 0.0, 0.0, 0.0, 0.0, 0.0, 0.0, 0.0, 0.0, 0.0, 910.0]]}],\n",
              "                        {\"template\": {\"data\": {\"bar\": [{\"error_x\": {\"color\": \"#2a3f5f\"}, \"error_y\": {\"color\": \"#2a3f5f\"}, \"marker\": {\"line\": {\"color\": \"#E5ECF6\", \"width\": 0.5}}, \"type\": \"bar\"}], \"barpolar\": [{\"marker\": {\"line\": {\"color\": \"#E5ECF6\", \"width\": 0.5}}, \"type\": \"barpolar\"}], \"carpet\": [{\"aaxis\": {\"endlinecolor\": \"#2a3f5f\", \"gridcolor\": \"white\", \"linecolor\": \"white\", \"minorgridcolor\": \"white\", \"startlinecolor\": \"#2a3f5f\"}, \"baxis\": {\"endlinecolor\": \"#2a3f5f\", \"gridcolor\": \"white\", \"linecolor\": \"white\", \"minorgridcolor\": \"white\", \"startlinecolor\": \"#2a3f5f\"}, \"type\": \"carpet\"}], \"choropleth\": [{\"colorbar\": {\"outlinewidth\": 0, \"ticks\": \"\"}, \"type\": \"choropleth\"}], \"contour\": [{\"colorbar\": {\"outlinewidth\": 0, \"ticks\": \"\"}, \"colorscale\": [[0.0, \"#0d0887\"], [0.1111111111111111, \"#46039f\"], [0.2222222222222222, \"#7201a8\"], [0.3333333333333333, \"#9c179e\"], [0.4444444444444444, \"#bd3786\"], [0.5555555555555556, \"#d8576b\"], [0.6666666666666666, \"#ed7953\"], [0.7777777777777778, \"#fb9f3a\"], [0.8888888888888888, \"#fdca26\"], [1.0, \"#f0f921\"]], \"type\": \"contour\"}], \"contourcarpet\": [{\"colorbar\": {\"outlinewidth\": 0, \"ticks\": \"\"}, \"type\": \"contourcarpet\"}], \"heatmap\": [{\"colorbar\": {\"outlinewidth\": 0, \"ticks\": \"\"}, \"colorscale\": [[0.0, \"#0d0887\"], [0.1111111111111111, \"#46039f\"], [0.2222222222222222, \"#7201a8\"], [0.3333333333333333, \"#9c179e\"], [0.4444444444444444, \"#bd3786\"], [0.5555555555555556, \"#d8576b\"], [0.6666666666666666, \"#ed7953\"], [0.7777777777777778, \"#fb9f3a\"], [0.8888888888888888, \"#fdca26\"], [1.0, \"#f0f921\"]], \"type\": \"heatmap\"}], \"heatmapgl\": [{\"colorbar\": {\"outlinewidth\": 0, \"ticks\": \"\"}, \"colorscale\": [[0.0, \"#0d0887\"], [0.1111111111111111, \"#46039f\"], [0.2222222222222222, \"#7201a8\"], [0.3333333333333333, \"#9c179e\"], [0.4444444444444444, \"#bd3786\"], [0.5555555555555556, \"#d8576b\"], [0.6666666666666666, \"#ed7953\"], [0.7777777777777778, \"#fb9f3a\"], [0.8888888888888888, \"#fdca26\"], [1.0, \"#f0f921\"]], \"type\": \"heatmapgl\"}], \"histogram\": [{\"marker\": {\"colorbar\": {\"outlinewidth\": 0, \"ticks\": \"\"}}, \"type\": \"histogram\"}], \"histogram2d\": [{\"colorbar\": {\"outlinewidth\": 0, \"ticks\": \"\"}, \"colorscale\": [[0.0, \"#0d0887\"], [0.1111111111111111, \"#46039f\"], [0.2222222222222222, \"#7201a8\"], [0.3333333333333333, \"#9c179e\"], [0.4444444444444444, \"#bd3786\"], [0.5555555555555556, \"#d8576b\"], [0.6666666666666666, \"#ed7953\"], [0.7777777777777778, \"#fb9f3a\"], [0.8888888888888888, \"#fdca26\"], [1.0, \"#f0f921\"]], \"type\": \"histogram2d\"}], \"histogram2dcontour\": [{\"colorbar\": {\"outlinewidth\": 0, \"ticks\": \"\"}, \"colorscale\": [[0.0, \"#0d0887\"], [0.1111111111111111, \"#46039f\"], [0.2222222222222222, \"#7201a8\"], [0.3333333333333333, \"#9c179e\"], [0.4444444444444444, \"#bd3786\"], [0.5555555555555556, \"#d8576b\"], [0.6666666666666666, \"#ed7953\"], [0.7777777777777778, \"#fb9f3a\"], [0.8888888888888888, \"#fdca26\"], [1.0, \"#f0f921\"]], \"type\": \"histogram2dcontour\"}], \"mesh3d\": [{\"colorbar\": {\"outlinewidth\": 0, \"ticks\": \"\"}, \"type\": \"mesh3d\"}], \"parcoords\": [{\"line\": {\"colorbar\": {\"outlinewidth\": 0, \"ticks\": \"\"}}, \"type\": \"parcoords\"}], \"pie\": [{\"automargin\": true, \"type\": \"pie\"}], \"scatter\": [{\"marker\": {\"colorbar\": {\"outlinewidth\": 0, \"ticks\": \"\"}}, \"type\": \"scatter\"}], \"scatter3d\": [{\"line\": {\"colorbar\": {\"outlinewidth\": 0, \"ticks\": \"\"}}, \"marker\": {\"colorbar\": {\"outlinewidth\": 0, \"ticks\": \"\"}}, \"type\": \"scatter3d\"}], \"scattercarpet\": [{\"marker\": {\"colorbar\": {\"outlinewidth\": 0, \"ticks\": \"\"}}, \"type\": \"scattercarpet\"}], \"scattergeo\": [{\"marker\": {\"colorbar\": {\"outlinewidth\": 0, \"ticks\": \"\"}}, \"type\": \"scattergeo\"}], \"scattergl\": [{\"marker\": {\"colorbar\": {\"outlinewidth\": 0, \"ticks\": \"\"}}, \"type\": \"scattergl\"}], \"scattermapbox\": [{\"marker\": {\"colorbar\": {\"outlinewidth\": 0, \"ticks\": \"\"}}, \"type\": \"scattermapbox\"}], \"scatterpolar\": [{\"marker\": {\"colorbar\": {\"outlinewidth\": 0, \"ticks\": \"\"}}, \"type\": \"scatterpolar\"}], \"scatterpolargl\": [{\"marker\": {\"colorbar\": {\"outlinewidth\": 0, \"ticks\": \"\"}}, \"type\": \"scatterpolargl\"}], \"scatterternary\": [{\"marker\": {\"colorbar\": {\"outlinewidth\": 0, \"ticks\": \"\"}}, \"type\": \"scatterternary\"}], \"surface\": [{\"colorbar\": {\"outlinewidth\": 0, \"ticks\": \"\"}, \"colorscale\": [[0.0, \"#0d0887\"], [0.1111111111111111, \"#46039f\"], [0.2222222222222222, \"#7201a8\"], [0.3333333333333333, \"#9c179e\"], [0.4444444444444444, \"#bd3786\"], [0.5555555555555556, \"#d8576b\"], [0.6666666666666666, \"#ed7953\"], [0.7777777777777778, \"#fb9f3a\"], [0.8888888888888888, \"#fdca26\"], [1.0, \"#f0f921\"]], \"type\": \"surface\"}], \"table\": [{\"cells\": {\"fill\": {\"color\": \"#EBF0F8\"}, \"line\": {\"color\": \"white\"}}, \"header\": {\"fill\": {\"color\": \"#C8D4E3\"}, \"line\": {\"color\": \"white\"}}, \"type\": \"table\"}]}, \"layout\": {\"annotationdefaults\": {\"arrowcolor\": \"#2a3f5f\", \"arrowhead\": 0, \"arrowwidth\": 1}, \"coloraxis\": {\"colorbar\": {\"outlinewidth\": 0, \"ticks\": \"\"}}, \"colorscale\": {\"diverging\": [[0, \"#8e0152\"], [0.1, \"#c51b7d\"], [0.2, \"#de77ae\"], [0.3, \"#f1b6da\"], [0.4, \"#fde0ef\"], [0.5, \"#f7f7f7\"], [0.6, \"#e6f5d0\"], [0.7, \"#b8e186\"], [0.8, \"#7fbc41\"], [0.9, \"#4d9221\"], [1, \"#276419\"]], \"sequential\": [[0.0, \"#0d0887\"], [0.1111111111111111, \"#46039f\"], [0.2222222222222222, \"#7201a8\"], [0.3333333333333333, \"#9c179e\"], [0.4444444444444444, \"#bd3786\"], [0.5555555555555556, \"#d8576b\"], [0.6666666666666666, \"#ed7953\"], [0.7777777777777778, \"#fb9f3a\"], [0.8888888888888888, \"#fdca26\"], [1.0, \"#f0f921\"]], \"sequentialminus\": [[0.0, \"#0d0887\"], [0.1111111111111111, \"#46039f\"], [0.2222222222222222, \"#7201a8\"], [0.3333333333333333, \"#9c179e\"], [0.4444444444444444, \"#bd3786\"], [0.5555555555555556, \"#d8576b\"], [0.6666666666666666, \"#ed7953\"], [0.7777777777777778, \"#fb9f3a\"], [0.8888888888888888, \"#fdca26\"], [1.0, \"#f0f921\"]]}, \"colorway\": [\"#636efa\", \"#EF553B\", \"#00cc96\", \"#ab63fa\", \"#FFA15A\", \"#19d3f3\", \"#FF6692\", \"#B6E880\", \"#FF97FF\", \"#FECB52\"], \"font\": {\"color\": \"#2a3f5f\"}, \"geo\": {\"bgcolor\": \"white\", \"lakecolor\": \"white\", \"landcolor\": \"#E5ECF6\", \"showlakes\": true, \"showland\": true, \"subunitcolor\": \"white\"}, \"hoverlabel\": {\"align\": \"left\"}, \"hovermode\": \"closest\", \"mapbox\": {\"style\": \"light\"}, \"paper_bgcolor\": \"white\", \"plot_bgcolor\": \"#E5ECF6\", \"polar\": {\"angularaxis\": {\"gridcolor\": \"white\", \"linecolor\": \"white\", \"ticks\": \"\"}, \"bgcolor\": \"#E5ECF6\", \"radialaxis\": {\"gridcolor\": \"white\", \"linecolor\": \"white\", \"ticks\": \"\"}}, \"scene\": {\"xaxis\": {\"backgroundcolor\": \"#E5ECF6\", \"gridcolor\": \"white\", \"gridwidth\": 2, \"linecolor\": \"white\", \"showbackground\": true, \"ticks\": \"\", \"zerolinecolor\": \"white\"}, \"yaxis\": {\"backgroundcolor\": \"#E5ECF6\", \"gridcolor\": \"white\", \"gridwidth\": 2, \"linecolor\": \"white\", \"showbackground\": true, \"ticks\": \"\", \"zerolinecolor\": \"white\"}, \"zaxis\": {\"backgroundcolor\": \"#E5ECF6\", \"gridcolor\": \"white\", \"gridwidth\": 2, \"linecolor\": \"white\", \"showbackground\": true, \"ticks\": \"\", \"zerolinecolor\": \"white\"}}, \"shapedefaults\": {\"line\": {\"color\": \"#2a3f5f\"}}, \"ternary\": {\"aaxis\": {\"gridcolor\": \"white\", \"linecolor\": \"white\", \"ticks\": \"\"}, \"baxis\": {\"gridcolor\": \"white\", \"linecolor\": \"white\", \"ticks\": \"\"}, \"bgcolor\": \"#E5ECF6\", \"caxis\": {\"gridcolor\": \"white\", \"linecolor\": \"white\", \"ticks\": \"\"}}, \"title\": {\"x\": 0.05}, \"xaxis\": {\"automargin\": true, \"gridcolor\": \"white\", \"linecolor\": \"white\", \"ticks\": \"\", \"title\": {\"standoff\": 15}, \"zerolinecolor\": \"white\", \"zerolinewidth\": 2}, \"yaxis\": {\"automargin\": true, \"gridcolor\": \"white\", \"linecolor\": \"white\", \"ticks\": \"\", \"title\": {\"standoff\": 15}, \"zerolinecolor\": \"white\", \"zerolinewidth\": 2}}}, \"title\": {\"text\": \"Top 50 Worst Terror Attacks in History from 1982 to 2016\"}},\n",
              "                        {\"responsive\": true}\n",
              "                    ).then(function(){\n",
              "                            \n",
              "var gd = document.getElementById('449d8bc8-8961-4348-90f5-0f0040229e3a');\n",
              "var x = new MutationObserver(function (mutations, observer) {{\n",
              "        var display = window.getComputedStyle(gd).display;\n",
              "        if (!display || display === 'none') {{\n",
              "            console.log([gd, 'removed!']);\n",
              "            Plotly.purge(gd);\n",
              "            observer.disconnect();\n",
              "        }}\n",
              "}});\n",
              "\n",
              "// Listen for the removal of the full notebook cells\n",
              "var notebookContainer = gd.closest('#notebook-container');\n",
              "if (notebookContainer) {{\n",
              "    x.observe(notebookContainer, {childList: true});\n",
              "}}\n",
              "\n",
              "// Listen for the clearing of the current output cell\n",
              "var outputEl = gd.closest('.output');\n",
              "if (outputEl) {{\n",
              "    x.observe(outputEl, {childList: true});\n",
              "}}\n",
              "\n",
              "                        })\n",
              "                };\n",
              "                });\n",
              "            </script>\n",
              "        </div>"
            ],
            "application/vnd.plotly.v1+json": {
              "data": [
                {
                  "y": [
                    "Afghanistan",
                    "Algeria",
                    "Chad",
                    "Egypt",
                    "Ethiopia",
                    "France",
                    "India",
                    "Iran",
                    "Iraq",
                    "Japan",
                    "Kenya",
                    "Libya",
                    "Mozambique",
                    "Nepal",
                    "Pakistan",
                    "Russia",
                    "Rwanda",
                    "Somalia",
                    "South Sudan",
                    "Spain",
                    "Sri Lanka",
                    "Syria",
                    "Tajikistan",
                    "United States"
                  ],
                  "x": [
                    1982,
                    1984,
                    1987,
                    1992,
                    1994,
                    1995,
                    1996,
                    1997,
                    1998,
                    2001,
                    2004,
                    2005,
                    2006,
                    2007,
                    2008,
                    2009,
                    2013,
                    2014,
                    2015,
                    2016,
                    2017
                  ],
                  "z": [
                    [
                      0,
                      0,
                      0,
                      0,
                      0,
                      0,
                      0,
                      0,
                      0,
                      0,
                      0,
                      0,
                      0,
                      0,
                      0,
                      0,
                      0,
                      0,
                      536,
                      0,
                      584
                    ],
                    [
                      0,
                      0,
                      0,
                      0,
                      0,
                      0,
                      0,
                      450,
                      0,
                      0,
                      0,
                      0,
                      0,
                      0,
                      0,
                      0,
                      0,
                      0,
                      0,
                      0,
                      0
                    ],
                    [
                      0,
                      0,
                      0,
                      0,
                      0,
                      0,
                      0,
                      0,
                      0,
                      0,
                      0,
                      0,
                      0,
                      0,
                      1161,
                      0,
                      0,
                      0,
                      0,
                      0,
                      0
                    ],
                    [
                      0,
                      0,
                      0,
                      0,
                      0,
                      0,
                      0,
                      0,
                      0,
                      0,
                      0,
                      0,
                      0,
                      0,
                      0,
                      0,
                      0,
                      0,
                      0,
                      0,
                      438
                    ],
                    [
                      0,
                      0,
                      0,
                      500,
                      0,
                      0,
                      0,
                      0,
                      0,
                      0,
                      0,
                      0,
                      0,
                      0,
                      0,
                      0,
                      0,
                      0,
                      0,
                      0,
                      0
                    ],
                    [
                      0,
                      0,
                      0,
                      0,
                      0,
                      0,
                      0,
                      0,
                      0,
                      0,
                      0,
                      0,
                      0,
                      0,
                      0,
                      0,
                      0,
                      0,
                      0,
                      520,
                      0
                    ],
                    [
                      0,
                      0,
                      0,
                      0,
                      0,
                      0,
                      0,
                      0,
                      0,
                      0,
                      0,
                      0,
                      1005,
                      0,
                      0,
                      0,
                      0,
                      0,
                      0,
                      0,
                      0
                    ],
                    [
                      760,
                      0,
                      0,
                      0,
                      0,
                      0,
                      0,
                      0,
                      0,
                      0,
                      0,
                      0,
                      0,
                      0,
                      0,
                      0,
                      0,
                      0,
                      0,
                      0,
                      0
                    ],
                    [
                      0,
                      0,
                      0,
                      0,
                      0,
                      0,
                      0,
                      0,
                      0,
                      0,
                      0,
                      702,
                      462,
                      833.3333333333334,
                      0,
                      509,
                      0,
                      1066.445112266699,
                      0,
                      911.6666666666666,
                      0
                    ],
                    [
                      0,
                      0,
                      0,
                      0,
                      507,
                      3092,
                      0,
                      0,
                      0,
                      0,
                      0,
                      0,
                      0,
                      0,
                      0,
                      0,
                      0,
                      0,
                      0,
                      0,
                      0
                    ],
                    [
                      0,
                      0,
                      0,
                      0,
                      0,
                      0,
                      0,
                      0,
                      4224,
                      0,
                      0,
                      0,
                      0,
                      0,
                      0,
                      0,
                      0,
                      0,
                      0,
                      0,
                      0
                    ],
                    [
                      0,
                      0,
                      0,
                      0,
                      0,
                      0,
                      0,
                      0,
                      0,
                      0,
                      0,
                      0,
                      0,
                      0,
                      0,
                      0,
                      442,
                      0,
                      0,
                      0,
                      0
                    ],
                    [
                      0,
                      0,
                      458,
                      0,
                      0,
                      0,
                      0,
                      0,
                      0,
                      0,
                      0,
                      0,
                      0,
                      0,
                      0,
                      0,
                      0,
                      0,
                      0,
                      0,
                      0
                    ],
                    [
                      0,
                      0,
                      0,
                      0,
                      0,
                      0,
                      0,
                      0,
                      0,
                      0,
                      734,
                      0,
                      0,
                      0,
                      0,
                      0,
                      0,
                      0,
                      0,
                      0,
                      0
                    ],
                    [
                      0,
                      0,
                      0,
                      0,
                      0,
                      0,
                      0,
                      0,
                      0,
                      0,
                      0,
                      0,
                      0,
                      0,
                      0,
                      0,
                      0,
                      0,
                      0,
                      0,
                      442
                    ],
                    [
                      0,
                      0,
                      0,
                      0,
                      0,
                      0,
                      0,
                      0,
                      0,
                      0,
                      1071,
                      0,
                      0,
                      0,
                      0,
                      0,
                      0,
                      0,
                      0,
                      0,
                      0
                    ],
                    [
                      0,
                      0,
                      0,
                      0,
                      1180,
                      0,
                      0,
                      498,
                      0,
                      0,
                      0,
                      0,
                      0,
                      0,
                      0,
                      0,
                      0,
                      0,
                      0,
                      0,
                      0
                    ],
                    [
                      0,
                      0,
                      0,
                      0,
                      0,
                      0,
                      0,
                      0,
                      0,
                      0,
                      0,
                      0,
                      0,
                      0,
                      0,
                      0,
                      0,
                      0,
                      0,
                      0,
                      904
                    ],
                    [
                      0,
                      0,
                      0,
                      0,
                      0,
                      0,
                      0,
                      0,
                      0,
                      0,
                      0,
                      0,
                      0,
                      0,
                      0,
                      0,
                      0,
                      687,
                      0,
                      0,
                      0
                    ],
                    [
                      0,
                      0,
                      0,
                      0,
                      0,
                      0,
                      0,
                      0,
                      0,
                      0,
                      497.75,
                      0,
                      0,
                      0,
                      0,
                      0,
                      0,
                      0,
                      0,
                      0,
                      0
                    ],
                    [
                      0,
                      0,
                      0,
                      0,
                      0,
                      0,
                      907,
                      0,
                      0,
                      0,
                      0,
                      0,
                      0,
                      0,
                      0,
                      0,
                      0,
                      0,
                      0,
                      0,
                      0
                    ],
                    [
                      0,
                      0,
                      0,
                      0,
                      0,
                      0,
                      0,
                      0,
                      0,
                      0,
                      0,
                      0,
                      0,
                      0,
                      0,
                      0,
                      0,
                      520.1676684000483,
                      0,
                      436.1676684000484,
                      0
                    ],
                    [
                      0,
                      0,
                      0,
                      800,
                      0,
                      0,
                      0,
                      0,
                      0,
                      0,
                      0,
                      0,
                      0,
                      0,
                      0,
                      0,
                      0,
                      0,
                      0,
                      0,
                      0
                    ],
                    [
                      0,
                      751,
                      0,
                      0,
                      0,
                      818,
                      0,
                      0,
                      0,
                      9574,
                      0,
                      0,
                      0,
                      0,
                      0,
                      0,
                      0,
                      0,
                      0,
                      0,
                      910
                    ]
                  ],
                  "type": "heatmap",
                  "colorscale": [
                    [
                      0,
                      "#edf8fb"
                    ],
                    [
                      0.3,
                      "#00BFFF"
                    ],
                    [
                      0.6,
                      "#8856a7"
                    ],
                    [
                      1,
                      "#810f7c"
                    ]
                  ]
                }
              ],
              "config": {
                "plotlyServerURL": "https://plot.ly",
                "linkText": "Export to plot.ly",
                "showLink": false
              },
              "layout": {
                "template": {
                  "layout": {
                    "shapedefaults": {
                      "line": {
                        "color": "#2a3f5f"
                      }
                    },
                    "polar": {
                      "radialaxis": {
                        "ticks": "",
                        "gridcolor": "white",
                        "linecolor": "white"
                      },
                      "bgcolor": "#E5ECF6",
                      "angularaxis": {
                        "ticks": "",
                        "gridcolor": "white",
                        "linecolor": "white"
                      }
                    },
                    "colorway": [
                      "#636efa",
                      "#EF553B",
                      "#00cc96",
                      "#ab63fa",
                      "#FFA15A",
                      "#19d3f3",
                      "#FF6692",
                      "#B6E880",
                      "#FF97FF",
                      "#FECB52"
                    ],
                    "xaxis": {
                      "automargin": true,
                      "title": {
                        "standoff": 15
                      },
                      "zerolinewidth": 2,
                      "ticks": "",
                      "zerolinecolor": "white",
                      "gridcolor": "white",
                      "linecolor": "white"
                    },
                    "colorscale": {
                      "diverging": [
                        [
                          0,
                          "#8e0152"
                        ],
                        [
                          0.1,
                          "#c51b7d"
                        ],
                        [
                          0.2,
                          "#de77ae"
                        ],
                        [
                          0.3,
                          "#f1b6da"
                        ],
                        [
                          0.4,
                          "#fde0ef"
                        ],
                        [
                          0.5,
                          "#f7f7f7"
                        ],
                        [
                          0.6,
                          "#e6f5d0"
                        ],
                        [
                          0.7,
                          "#b8e186"
                        ],
                        [
                          0.8,
                          "#7fbc41"
                        ],
                        [
                          0.9,
                          "#4d9221"
                        ],
                        [
                          1,
                          "#276419"
                        ]
                      ],
                      "sequential": [
                        [
                          0,
                          "#0d0887"
                        ],
                        [
                          0.1111111111111111,
                          "#46039f"
                        ],
                        [
                          0.2222222222222222,
                          "#7201a8"
                        ],
                        [
                          0.3333333333333333,
                          "#9c179e"
                        ],
                        [
                          0.4444444444444444,
                          "#bd3786"
                        ],
                        [
                          0.5555555555555556,
                          "#d8576b"
                        ],
                        [
                          0.6666666666666666,
                          "#ed7953"
                        ],
                        [
                          0.7777777777777778,
                          "#fb9f3a"
                        ],
                        [
                          0.8888888888888888,
                          "#fdca26"
                        ],
                        [
                          1,
                          "#f0f921"
                        ]
                      ],
                      "sequentialminus": [
                        [
                          0,
                          "#0d0887"
                        ],
                        [
                          0.1111111111111111,
                          "#46039f"
                        ],
                        [
                          0.2222222222222222,
                          "#7201a8"
                        ],
                        [
                          0.3333333333333333,
                          "#9c179e"
                        ],
                        [
                          0.4444444444444444,
                          "#bd3786"
                        ],
                        [
                          0.5555555555555556,
                          "#d8576b"
                        ],
                        [
                          0.6666666666666666,
                          "#ed7953"
                        ],
                        [
                          0.7777777777777778,
                          "#fb9f3a"
                        ],
                        [
                          0.8888888888888888,
                          "#fdca26"
                        ],
                        [
                          1,
                          "#f0f921"
                        ]
                      ]
                    },
                    "paper_bgcolor": "white",
                    "plot_bgcolor": "#E5ECF6",
                    "title": {
                      "x": 0.05
                    },
                    "scene": {
                      "zaxis": {
                        "backgroundcolor": "#E5ECF6",
                        "ticks": "",
                        "gridwidth": 2,
                        "showbackground": true,
                        "zerolinecolor": "white",
                        "gridcolor": "white",
                        "linecolor": "white"
                      },
                      "xaxis": {
                        "backgroundcolor": "#E5ECF6",
                        "ticks": "",
                        "gridwidth": 2,
                        "showbackground": true,
                        "zerolinecolor": "white",
                        "gridcolor": "white",
                        "linecolor": "white"
                      },
                      "yaxis": {
                        "backgroundcolor": "#E5ECF6",
                        "ticks": "",
                        "gridwidth": 2,
                        "showbackground": true,
                        "zerolinecolor": "white",
                        "gridcolor": "white",
                        "linecolor": "white"
                      }
                    },
                    "yaxis": {
                      "automargin": true,
                      "title": {
                        "standoff": 15
                      },
                      "zerolinewidth": 2,
                      "ticks": "",
                      "zerolinecolor": "white",
                      "gridcolor": "white",
                      "linecolor": "white"
                    },
                    "annotationdefaults": {
                      "arrowwidth": 1,
                      "arrowhead": 0,
                      "arrowcolor": "#2a3f5f"
                    },
                    "hoverlabel": {
                      "align": "left"
                    },
                    "ternary": {
                      "bgcolor": "#E5ECF6",
                      "baxis": {
                        "ticks": "",
                        "gridcolor": "white",
                        "linecolor": "white"
                      },
                      "caxis": {
                        "ticks": "",
                        "gridcolor": "white",
                        "linecolor": "white"
                      },
                      "aaxis": {
                        "ticks": "",
                        "gridcolor": "white",
                        "linecolor": "white"
                      }
                    },
                    "mapbox": {
                      "style": "light"
                    },
                    "hovermode": "closest",
                    "font": {
                      "color": "#2a3f5f"
                    },
                    "geo": {
                      "showland": true,
                      "landcolor": "#E5ECF6",
                      "showlakes": true,
                      "bgcolor": "white",
                      "subunitcolor": "white",
                      "lakecolor": "white"
                    },
                    "coloraxis": {
                      "colorbar": {
                        "outlinewidth": 0,
                        "ticks": ""
                      }
                    }
                  },
                  "data": {
                    "mesh3d": [
                      {
                        "colorbar": {
                          "outlinewidth": 0,
                          "ticks": ""
                        },
                        "type": "mesh3d"
                      }
                    ],
                    "scattercarpet": [
                      {
                        "marker": {
                          "colorbar": {
                            "outlinewidth": 0,
                            "ticks": ""
                          }
                        },
                        "type": "scattercarpet"
                      }
                    ],
                    "pie": [
                      {
                        "automargin": true,
                        "type": "pie"
                      }
                    ],
                    "surface": [
                      {
                        "colorbar": {
                          "outlinewidth": 0,
                          "ticks": ""
                        },
                        "type": "surface",
                        "colorscale": [
                          [
                            0,
                            "#0d0887"
                          ],
                          [
                            0.1111111111111111,
                            "#46039f"
                          ],
                          [
                            0.2222222222222222,
                            "#7201a8"
                          ],
                          [
                            0.3333333333333333,
                            "#9c179e"
                          ],
                          [
                            0.4444444444444444,
                            "#bd3786"
                          ],
                          [
                            0.5555555555555556,
                            "#d8576b"
                          ],
                          [
                            0.6666666666666666,
                            "#ed7953"
                          ],
                          [
                            0.7777777777777778,
                            "#fb9f3a"
                          ],
                          [
                            0.8888888888888888,
                            "#fdca26"
                          ],
                          [
                            1,
                            "#f0f921"
                          ]
                        ]
                      }
                    ],
                    "table": [
                      {
                        "header": {
                          "line": {
                            "color": "white"
                          },
                          "fill": {
                            "color": "#C8D4E3"
                          }
                        },
                        "cells": {
                          "line": {
                            "color": "white"
                          },
                          "fill": {
                            "color": "#EBF0F8"
                          }
                        },
                        "type": "table"
                      }
                    ],
                    "scatterpolargl": [
                      {
                        "marker": {
                          "colorbar": {
                            "outlinewidth": 0,
                            "ticks": ""
                          }
                        },
                        "type": "scatterpolargl"
                      }
                    ],
                    "contour": [
                      {
                        "colorbar": {
                          "outlinewidth": 0,
                          "ticks": ""
                        },
                        "type": "contour",
                        "colorscale": [
                          [
                            0,
                            "#0d0887"
                          ],
                          [
                            0.1111111111111111,
                            "#46039f"
                          ],
                          [
                            0.2222222222222222,
                            "#7201a8"
                          ],
                          [
                            0.3333333333333333,
                            "#9c179e"
                          ],
                          [
                            0.4444444444444444,
                            "#bd3786"
                          ],
                          [
                            0.5555555555555556,
                            "#d8576b"
                          ],
                          [
                            0.6666666666666666,
                            "#ed7953"
                          ],
                          [
                            0.7777777777777778,
                            "#fb9f3a"
                          ],
                          [
                            0.8888888888888888,
                            "#fdca26"
                          ],
                          [
                            1,
                            "#f0f921"
                          ]
                        ]
                      }
                    ],
                    "carpet": [
                      {
                        "type": "carpet",
                        "baxis": {
                          "minorgridcolor": "white",
                          "gridcolor": "white",
                          "linecolor": "white",
                          "endlinecolor": "#2a3f5f",
                          "startlinecolor": "#2a3f5f"
                        },
                        "aaxis": {
                          "minorgridcolor": "white",
                          "gridcolor": "white",
                          "linecolor": "white",
                          "endlinecolor": "#2a3f5f",
                          "startlinecolor": "#2a3f5f"
                        }
                      }
                    ],
                    "contourcarpet": [
                      {
                        "colorbar": {
                          "outlinewidth": 0,
                          "ticks": ""
                        },
                        "type": "contourcarpet"
                      }
                    ],
                    "heatmap": [
                      {
                        "colorbar": {
                          "outlinewidth": 0,
                          "ticks": ""
                        },
                        "type": "heatmap",
                        "colorscale": [
                          [
                            0,
                            "#0d0887"
                          ],
                          [
                            0.1111111111111111,
                            "#46039f"
                          ],
                          [
                            0.2222222222222222,
                            "#7201a8"
                          ],
                          [
                            0.3333333333333333,
                            "#9c179e"
                          ],
                          [
                            0.4444444444444444,
                            "#bd3786"
                          ],
                          [
                            0.5555555555555556,
                            "#d8576b"
                          ],
                          [
                            0.6666666666666666,
                            "#ed7953"
                          ],
                          [
                            0.7777777777777778,
                            "#fb9f3a"
                          ],
                          [
                            0.8888888888888888,
                            "#fdca26"
                          ],
                          [
                            1,
                            "#f0f921"
                          ]
                        ]
                      }
                    ],
                    "scattermapbox": [
                      {
                        "marker": {
                          "colorbar": {
                            "outlinewidth": 0,
                            "ticks": ""
                          }
                        },
                        "type": "scattermapbox"
                      }
                    ],
                    "scatter3d": [
                      {
                        "marker": {
                          "colorbar": {
                            "outlinewidth": 0,
                            "ticks": ""
                          }
                        },
                        "line": {
                          "colorbar": {
                            "outlinewidth": 0,
                            "ticks": ""
                          }
                        },
                        "type": "scatter3d"
                      }
                    ],
                    "scattergl": [
                      {
                        "marker": {
                          "colorbar": {
                            "outlinewidth": 0,
                            "ticks": ""
                          }
                        },
                        "type": "scattergl"
                      }
                    ],
                    "scatterternary": [
                      {
                        "marker": {
                          "colorbar": {
                            "outlinewidth": 0,
                            "ticks": ""
                          }
                        },
                        "type": "scatterternary"
                      }
                    ],
                    "histogram": [
                      {
                        "marker": {
                          "colorbar": {
                            "outlinewidth": 0,
                            "ticks": ""
                          }
                        },
                        "type": "histogram"
                      }
                    ],
                    "heatmapgl": [
                      {
                        "colorbar": {
                          "outlinewidth": 0,
                          "ticks": ""
                        },
                        "type": "heatmapgl",
                        "colorscale": [
                          [
                            0,
                            "#0d0887"
                          ],
                          [
                            0.1111111111111111,
                            "#46039f"
                          ],
                          [
                            0.2222222222222222,
                            "#7201a8"
                          ],
                          [
                            0.3333333333333333,
                            "#9c179e"
                          ],
                          [
                            0.4444444444444444,
                            "#bd3786"
                          ],
                          [
                            0.5555555555555556,
                            "#d8576b"
                          ],
                          [
                            0.6666666666666666,
                            "#ed7953"
                          ],
                          [
                            0.7777777777777778,
                            "#fb9f3a"
                          ],
                          [
                            0.8888888888888888,
                            "#fdca26"
                          ],
                          [
                            1,
                            "#f0f921"
                          ]
                        ]
                      }
                    ],
                    "scatterpolar": [
                      {
                        "marker": {
                          "colorbar": {
                            "outlinewidth": 0,
                            "ticks": ""
                          }
                        },
                        "type": "scatterpolar"
                      }
                    ],
                    "histogram2d": [
                      {
                        "colorbar": {
                          "outlinewidth": 0,
                          "ticks": ""
                        },
                        "type": "histogram2d",
                        "colorscale": [
                          [
                            0,
                            "#0d0887"
                          ],
                          [
                            0.1111111111111111,
                            "#46039f"
                          ],
                          [
                            0.2222222222222222,
                            "#7201a8"
                          ],
                          [
                            0.3333333333333333,
                            "#9c179e"
                          ],
                          [
                            0.4444444444444444,
                            "#bd3786"
                          ],
                          [
                            0.5555555555555556,
                            "#d8576b"
                          ],
                          [
                            0.6666666666666666,
                            "#ed7953"
                          ],
                          [
                            0.7777777777777778,
                            "#fb9f3a"
                          ],
                          [
                            0.8888888888888888,
                            "#fdca26"
                          ],
                          [
                            1,
                            "#f0f921"
                          ]
                        ]
                      }
                    ],
                    "scattergeo": [
                      {
                        "marker": {
                          "colorbar": {
                            "outlinewidth": 0,
                            "ticks": ""
                          }
                        },
                        "type": "scattergeo"
                      }
                    ],
                    "bar": [
                      {
                        "marker": {
                          "line": {
                            "color": "#E5ECF6",
                            "width": 0.5
                          }
                        },
                        "type": "bar",
                        "error_x": {
                          "color": "#2a3f5f"
                        },
                        "error_y": {
                          "color": "#2a3f5f"
                        }
                      }
                    ],
                    "choropleth": [
                      {
                        "colorbar": {
                          "outlinewidth": 0,
                          "ticks": ""
                        },
                        "type": "choropleth"
                      }
                    ],
                    "parcoords": [
                      {
                        "line": {
                          "colorbar": {
                            "outlinewidth": 0,
                            "ticks": ""
                          }
                        },
                        "type": "parcoords"
                      }
                    ],
                    "barpolar": [
                      {
                        "marker": {
                          "line": {
                            "color": "#E5ECF6",
                            "width": 0.5
                          }
                        },
                        "type": "barpolar"
                      }
                    ],
                    "histogram2dcontour": [
                      {
                        "colorbar": {
                          "outlinewidth": 0,
                          "ticks": ""
                        },
                        "type": "histogram2dcontour",
                        "colorscale": [
                          [
                            0,
                            "#0d0887"
                          ],
                          [
                            0.1111111111111111,
                            "#46039f"
                          ],
                          [
                            0.2222222222222222,
                            "#7201a8"
                          ],
                          [
                            0.3333333333333333,
                            "#9c179e"
                          ],
                          [
                            0.4444444444444444,
                            "#bd3786"
                          ],
                          [
                            0.5555555555555556,
                            "#d8576b"
                          ],
                          [
                            0.6666666666666666,
                            "#ed7953"
                          ],
                          [
                            0.7777777777777778,
                            "#fb9f3a"
                          ],
                          [
                            0.8888888888888888,
                            "#fdca26"
                          ],
                          [
                            1,
                            "#f0f921"
                          ]
                        ]
                      }
                    ],
                    "scatter": [
                      {
                        "marker": {
                          "colorbar": {
                            "outlinewidth": 0,
                            "ticks": ""
                          }
                        },
                        "type": "scatter"
                      }
                    ]
                  }
                },
                "title": {
                  "text": "Top 50 Worst Terror Attacks in History from 1982 to 2016"
                }
              }
            }
          },
          "metadata": {
            "tags": []
          }
        }
      ]
    },
    {
      "cell_type": "markdown",
      "metadata": {
        "id": "vYQlu8ZQwRl7"
      },
      "source": [
        ">The Worst Attack took place in the US in the year 2001 with a total casualty of 9574.\n",
        "\n",
        ">After the 9/11 attacks the security measures in the US were escalated in such a way that no attacks took place until the year 2017.\n",
        "\n",
        ">Kenya had the 2nd worst attack in the 1998 with 4224 Casualties, after that proper security measures were taken to avoid any such incident.\n",
        "\n",
        ">Russia had its worst attack in the year 2004 with 1071 casualties, since then there has been no major attack.\n",
        "\n",
        "**Top 10 Countries affected by Terror Attacks**\n",
        "\n"
      ]
    },
    {
      "cell_type": "code",
      "metadata": {
        "colab": {
          "base_uri": "https://localhost:8080/",
          "height": 535
        },
        "id": "PiJP0xfbwXN3",
        "outputId": "1d371ea7-0894-4a57-8545-fe144d1d89ae"
      },
      "source": [
        "plt.subplots(figsize=(15,6))\n",
        "style1  = {'family': 'Times New Roman', 'color': 'Tomato', 'size': 25}\n",
        "style2  = {'family': 'Times New Roman', 'color': 'DodgerBlue', 'size': 20}\n",
        "sns.barplot(trr['Country'].value_counts()[:10].index, trr['Country'].value_counts()[:10].values,palette='rocket')\n",
        "plt.title('Top Countries Affected', fontdict=style1 )\n",
        "plt.xlabel('Countries' , fontdict=style2 )\n",
        "plt.ylabel('Count', fontdict=style2 )\n",
        "#plt.xticks(rotation= 90)\n",
        "plt.show()"
      ],
      "execution_count": 48,
      "outputs": [
        {
          "output_type": "stream",
          "text": [
            "/usr/local/lib/python3.7/dist-packages/seaborn/_decorators.py:43: FutureWarning:\n",
            "\n",
            "Pass the following variables as keyword args: x, y. From version 0.12, the only valid positional argument will be `data`, and passing other arguments without an explicit keyword will result in an error or misinterpretation.\n",
            "\n",
            "findfont: Font family ['Times New Roman'] not found. Falling back to DejaVu Sans.\n"
          ],
          "name": "stderr"
        },
        {
          "output_type": "display_data",
          "data": {
            "image/png": "[encoded data removed]",
            "text/plain": [
              "<Figure size 1080x432 with 1 Axes>"
            ]
          },
          "metadata": {
            "tags": [],
            "needs_background": "light"
          }
        }
      ]
    },
    {
      "cell_type": "code",
      "metadata": {
        "colab": {
          "base_uri": "https://localhost:8080/",
          "height": 526
        },
        "id": "zxAvtLT3wZYZ",
        "outputId": "1240c36a-ab44-4b6e-df84-fe07ac21e86d"
      },
      "source": [
        "weapon_cross = pd.crosstab(trr[\"Weapon_type\"], trr[\"Region\"])\n",
        "weapon_cross"
      ],
      "execution_count": 49,
      "outputs": [
        {
          "output_type": "execute_result",
          "data": {
            "text/html": [
              "<div>\n",
              "<style scoped>\n",
              "    .dataframe tbody tr th:only-of-type {\n",
              "        vertical-align: middle;\n",
              "    }\n",
              "\n",
              "    .dataframe tbody tr th {\n",
              "        vertical-align: top;\n",
              "    }\n",
              "\n",
              "    .dataframe thead th {\n",
              "        text-align: right;\n",
              "    }\n",
              "</style>\n",
              "<table border=\"1\" class=\"dataframe\">\n",
              "  <thead>\n",
              "    <tr style=\"text-align: right;\">\n",
              "      <th>Region</th>\n",
              "      <th>Australasia &amp; Oceania</th>\n",
              "      <th>Central America &amp; Caribbean</th>\n",
              "      <th>Central Asia</th>\n",
              "      <th>East Asia</th>\n",
              "      <th>Eastern Europe</th>\n",
              "      <th>Middle East &amp; North Africa</th>\n",
              "      <th>North America</th>\n",
              "      <th>South America</th>\n",
              "      <th>South Asia</th>\n",
              "      <th>Southeast Asia</th>\n",
              "      <th>Sub-Saharan Africa</th>\n",
              "      <th>Western Europe</th>\n",
              "    </tr>\n",
              "    <tr>\n",
              "      <th>Weapon_type</th>\n",
              "      <th></th>\n",
              "      <th></th>\n",
              "      <th></th>\n",
              "      <th></th>\n",
              "      <th></th>\n",
              "      <th></th>\n",
              "      <th></th>\n",
              "      <th></th>\n",
              "      <th></th>\n",
              "      <th></th>\n",
              "      <th></th>\n",
              "      <th></th>\n",
              "    </tr>\n",
              "  </thead>\n",
              "  <tbody>\n",
              "    <tr>\n",
              "      <th>Biological</th>\n",
              "      <td>0</td>\n",
              "      <td>0</td>\n",
              "      <td>0</td>\n",
              "      <td>2</td>\n",
              "      <td>0</td>\n",
              "      <td>1</td>\n",
              "      <td>24</td>\n",
              "      <td>1</td>\n",
              "      <td>2</td>\n",
              "      <td>0</td>\n",
              "      <td>3</td>\n",
              "      <td>2</td>\n",
              "    </tr>\n",
              "    <tr>\n",
              "      <th>Chemical</th>\n",
              "      <td>11</td>\n",
              "      <td>2</td>\n",
              "      <td>2</td>\n",
              "      <td>17</td>\n",
              "      <td>12</td>\n",
              "      <td>73</td>\n",
              "      <td>26</td>\n",
              "      <td>26</td>\n",
              "      <td>83</td>\n",
              "      <td>11</td>\n",
              "      <td>12</td>\n",
              "      <td>46</td>\n",
              "    </tr>\n",
              "    <tr>\n",
              "      <th>Explosives</th>\n",
              "      <td>80</td>\n",
              "      <td>3149</td>\n",
              "      <td>254</td>\n",
              "      <td>333</td>\n",
              "      <td>3089</td>\n",
              "      <td>32283</td>\n",
              "      <td>1557</td>\n",
              "      <td>9098</td>\n",
              "      <td>22568</td>\n",
              "      <td>5039</td>\n",
              "      <td>6319</td>\n",
              "      <td>8657</td>\n",
              "    </tr>\n",
              "    <tr>\n",
              "      <th>Fake Weapons</th>\n",
              "      <td>0</td>\n",
              "      <td>0</td>\n",
              "      <td>1</td>\n",
              "      <td>4</td>\n",
              "      <td>4</td>\n",
              "      <td>6</td>\n",
              "      <td>5</td>\n",
              "      <td>3</td>\n",
              "      <td>3</td>\n",
              "      <td>0</td>\n",
              "      <td>1</td>\n",
              "      <td>6</td>\n",
              "    </tr>\n",
              "    <tr>\n",
              "      <th>Firearms</th>\n",
              "      <td>74</td>\n",
              "      <td>5679</td>\n",
              "      <td>232</td>\n",
              "      <td>41</td>\n",
              "      <td>1461</td>\n",
              "      <td>11877</td>\n",
              "      <td>682</td>\n",
              "      <td>6525</td>\n",
              "      <td>15169</td>\n",
              "      <td>5634</td>\n",
              "      <td>7499</td>\n",
              "      <td>3651</td>\n",
              "    </tr>\n",
              "    <tr>\n",
              "      <th>Incendiary</th>\n",
              "      <td>74</td>\n",
              "      <td>435</td>\n",
              "      <td>15</td>\n",
              "      <td>252</td>\n",
              "      <td>186</td>\n",
              "      <td>1181</td>\n",
              "      <td>897</td>\n",
              "      <td>1077</td>\n",
              "      <td>2285</td>\n",
              "      <td>837</td>\n",
              "      <td>840</td>\n",
              "      <td>3056</td>\n",
              "    </tr>\n",
              "    <tr>\n",
              "      <th>Melee</th>\n",
              "      <td>10</td>\n",
              "      <td>65</td>\n",
              "      <td>14</td>\n",
              "      <td>82</td>\n",
              "      <td>90</td>\n",
              "      <td>1227</td>\n",
              "      <td>74</td>\n",
              "      <td>131</td>\n",
              "      <td>998</td>\n",
              "      <td>147</td>\n",
              "      <td>478</td>\n",
              "      <td>339</td>\n",
              "    </tr>\n",
              "    <tr>\n",
              "      <th>Other</th>\n",
              "      <td>1</td>\n",
              "      <td>0</td>\n",
              "      <td>0</td>\n",
              "      <td>3</td>\n",
              "      <td>4</td>\n",
              "      <td>23</td>\n",
              "      <td>18</td>\n",
              "      <td>6</td>\n",
              "      <td>16</td>\n",
              "      <td>4</td>\n",
              "      <td>19</td>\n",
              "      <td>20</td>\n",
              "    </tr>\n",
              "    <tr>\n",
              "      <th>Radiological</th>\n",
              "      <td>0</td>\n",
              "      <td>0</td>\n",
              "      <td>0</td>\n",
              "      <td>10</td>\n",
              "      <td>0</td>\n",
              "      <td>0</td>\n",
              "      <td>1</td>\n",
              "      <td>0</td>\n",
              "      <td>1</td>\n",
              "      <td>0</td>\n",
              "      <td>0</td>\n",
              "      <td>2</td>\n",
              "    </tr>\n",
              "    <tr>\n",
              "      <th>Sabotage Equipment</th>\n",
              "      <td>0</td>\n",
              "      <td>5</td>\n",
              "      <td>0</td>\n",
              "      <td>3</td>\n",
              "      <td>4</td>\n",
              "      <td>10</td>\n",
              "      <td>19</td>\n",
              "      <td>15</td>\n",
              "      <td>46</td>\n",
              "      <td>21</td>\n",
              "      <td>7</td>\n",
              "      <td>11</td>\n",
              "    </tr>\n",
              "    <tr>\n",
              "      <th>Unknown</th>\n",
              "      <td>31</td>\n",
              "      <td>1005</td>\n",
              "      <td>45</td>\n",
              "      <td>47</td>\n",
              "      <td>293</td>\n",
              "      <td>3724</td>\n",
              "      <td>138</td>\n",
              "      <td>2093</td>\n",
              "      <td>3788</td>\n",
              "      <td>792</td>\n",
              "      <td>2371</td>\n",
              "      <td>830</td>\n",
              "    </tr>\n",
              "    <tr>\n",
              "      <th>Vehicle (not to include vehicle-borne explosives, i.e., car or truck bombs)</th>\n",
              "      <td>1</td>\n",
              "      <td>4</td>\n",
              "      <td>0</td>\n",
              "      <td>8</td>\n",
              "      <td>1</td>\n",
              "      <td>69</td>\n",
              "      <td>15</td>\n",
              "      <td>3</td>\n",
              "      <td>15</td>\n",
              "      <td>0</td>\n",
              "      <td>1</td>\n",
              "      <td>19</td>\n",
              "    </tr>\n",
              "  </tbody>\n",
              "</table>\n",
              "</div>"
            ],
            "text/plain": [
              "Region                                              Australasia & Oceania  ...  Western Europe\n",
              "Weapon_type                                                                ...                \n",
              "Biological                                                              0  ...               2\n",
              "Chemical                                                               11  ...              46\n",
              "Explosives                                                             80  ...            8657\n",
              "Fake Weapons                                                            0  ...               6\n",
              "Firearms                                                               74  ...            3651\n",
              "Incendiary                                                             74  ...            3056\n",
              "Melee                                                                  10  ...             339\n",
              "Other                                                                   1  ...              20\n",
              "Radiological                                                            0  ...               2\n",
              "Sabotage Equipment                                                      0  ...              11\n",
              "Unknown                                                                31  ...             830\n",
              "Vehicle (not to include vehicle-borne explosive...                      1  ...              19\n",
              "\n",
              "[12 rows x 12 columns]"
            ]
          },
          "metadata": {
            "tags": []
          },
          "execution_count": 49
        }
      ]
    },
    {
      "cell_type": "markdown",
      "metadata": {
        "id": "NWx4wKX-w-UW"
      },
      "source": [
        "*Mostly Explosives and Fireams are used*"
      ]
    },
    {
      "cell_type": "code",
      "metadata": {
        "colab": {
          "base_uri": "https://localhost:8080/",
          "height": 994
        },
        "id": "emWKKbeTxKyM",
        "outputId": "7339f5a7-b084-4c59-e844-62ddb8fba475"
      },
      "source": [
        "plt.figure(figsize=(20,10))\n",
        "sns.countplot(x=\"Weapon_type\", hue=\"Region\", data=trr)\n",
        "style1  = {'family': 'Times New Roman', 'color': 'Tomato', 'size': 25}\n",
        "style2  = {'family': 'Times New Roman', 'color': 'DodgerBlue', 'size': 20}\n",
        "plt.title(\"Weapon Types by Regions\", fontdict = style1)\n",
        "plt.ylabel(\"Weapon Types\", fontdict = style2 )\n",
        "plt.xlabel(\"Count\", fontdict = style2)\n",
        "plt.xticks(rotation=90)\n",
        "plt.show()"
      ],
      "execution_count": 50,
      "outputs": [
        {
          "output_type": "display_data",
          "data": {
            "image/png": "[encoded data removed]",
            "text/plain": [
              "<Figure size 1440x720 with 1 Axes>"
            ]
          },
          "metadata": {
            "tags": [],
            "needs_background": "light"
          }
        }
      ]
    },
    {
      "cell_type": "code",
      "metadata": {
        "colab": {
          "base_uri": "https://localhost:8080/",
          "height": 773
        },
        "id": "JF8dK2H0xM8m",
        "outputId": "a9d0db0f-6084-4cd5-a0b7-aed69b57d87a"
      },
      "source": [
        "plt.figure(figsize=(20,10))\n",
        "sns.countplot(x=\"Target_type\", hue=\"Region\", data=trr)\n",
        "style1  = {'family': 'Times New Roman', 'color': 'Tomato', 'size': 25}\n",
        "style2  = {'family': 'Times New Roman', 'color': 'DodgerBlue', 'size': 20}\n",
        "plt.title(\"Weapon Types by Regions\", fontdict = style1)\n",
        "plt.ylabel(\"Target Types\", fontdict = style2 )\n",
        "plt.xlabel(\"Count\", fontdict = style2)\n",
        "plt.xticks(rotation=90)\n",
        "plt.show()"
      ],
      "execution_count": 51,
      "outputs": [
        {
          "output_type": "display_data",
          "data": {
            "image/png": "[encoded data removed]",
            "text/plain": [
              "<Figure size 1440x720 with 1 Axes>"
            ]
          },
          "metadata": {
            "tags": [],
            "needs_background": "light"
          }
        }
      ]
    },
    {
      "cell_type": "markdown",
      "metadata": {
        "id": "Ufl6bYQmxbs2"
      },
      "source": [
        "\n",
        "\n",
        "*1.In Middle East region most attacks have been carried out on Private citizens followed by military.*\n",
        "\n",
        "*2.Most of the transportation and violent political party attacks have been witnessed by the South Asian Countries.*\n",
        "\n",
        "*3.The South Asian countries need to tighten up security measures in the police, military, Government, Business, Educational, and religious sectors.*\n",
        "\n"
      ]
    },
    {
      "cell_type": "markdown",
      "metadata": {
        "id": "vYWzc_suxpGV"
      },
      "source": [
        "**Evaluating**"
      ]
    },
    {
      "cell_type": "code",
      "metadata": {
        "colab": {
          "base_uri": "https://localhost:8080/"
        },
        "id": "qJXKstdjxsS-",
        "outputId": "1c560141-3cbc-4209-8d5e-493ed8bfdba9"
      },
      "source": [
        "print(\"Country with the most attacks:\",trr['Country'].value_counts().idxmax())\n",
        "print(\"City with the most attacks:\",trr['city'].value_counts().index[1]) \n",
        "print(\"Region with the most attacks:\",trr['Region'].value_counts().idxmax())\n",
        "print(\"Year with the most attacks:\",trr['Year'].value_counts().idxmax())\n",
        "print(\"Month with the most attacks:\",trr['Month'].value_counts().idxmax())\n",
        "print(\"Group with the most attacks:\",trr['Group'].value_counts().index[1])\n",
        "print(\"Most Attack Types:\",trr['Attacktype'].value_counts().idxmax())\n",
        "print(\"Most Target Types:\",trr['Target_type'].value_counts().idxmax())"
      ],
      "execution_count": 53,
      "outputs": [
        {
          "output_type": "stream",
          "text": [
            "Country with the most attacks: Iraq\n",
            "City with the most attacks: Baghdad\n",
            "Region with the most attacks: Middle East & North Africa\n",
            "Year with the most attacks: 2014\n",
            "Month with the most attacks: 5\n",
            "Group with the most attacks: Taliban\n",
            "Most Attack Types: Bombing/Explosion\n",
            "Most Target Types: Private Citizens & Property\n"
          ],
          "name": "stdout"
        }
      ]
    },
    {
      "cell_type": "markdown",
      "metadata": {
        "id": "jILUDRLpx5XS"
      },
      "source": [
        "**Conclusion**"
      ]
    },
    {
      "cell_type": "markdown",
      "metadata": {
        "id": "h-oz4oQTyBMJ"
      },
      "source": [
        "\n",
        ">1.There has been a gradual increase in Terror Activities since 2004.\n",
        "\n",
        ">2.Highest number of terror activities occurred in the year 2014.\n",
        "\n",
        ">3.After 2014 the terror activities started to decrease.\n",
        "\n",
        ">4.Maximum Attacks have been in Central America, followed by Australasia in the year 2010.\n",
        "\n",
        ">5.There have been very less terror casualties in: East Asia, North America.\n",
        "\n",
        ">6.In East Asia the number of attacks gradually reduced to 0 after the year 1990.\n",
        "\n",
        ">7.The Worst Attack took place in the US in the year 2001 with a total casualty of 9574.\n",
        "\n",
        ">8.After the 9/11 attack the security measures in the US were escalated in such a way that no attacks took place until the year 2017.\n",
        "\n",
        ">9.Kenya had the 2nd worst attack in the 1998 with 4224 Casualties, after that proper security measures were taken to avoid any such incident.\n",
        "\n",
        ">10.Russia had its worst attack in the year 2004 with 1071 casualties, since then there has been no major attack.\n",
        "\n",
        ">11.Mostly there is usage of Explosives and Firearms as Weapons.\n",
        "\n",
        ">12.In middle East region most attacks have been carried out on Private citizens followed by military.\n",
        "\n",
        ">13.Most of the transportation and violent political party attacks have been witnessed by the South Asian Countries.\n",
        "\n",
        ">14.The South Asian countries need to tighten up security measures in the police, military, Government, Business, Educational, and religious sectors.\n"
      ]
    },
    {
      "cell_type": "code",
      "metadata": {
        "id": "PUb1xYrby1eF"
      },
      "source": [
        ""
      ],
      "execution_count": null,
      "outputs": []
    }
  ]
}